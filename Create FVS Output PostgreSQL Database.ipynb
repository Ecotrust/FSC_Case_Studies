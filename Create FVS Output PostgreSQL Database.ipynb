{
 "cells": [
  {
   "cell_type": "markdown",
   "metadata": {
    "deletable": true,
    "editable": true
   },
   "source": [
    "<h1>Create and Populate PostgreSQL Output Database for FVS Simulations</h1>"
   ]
  },
  {
   "cell_type": "code",
   "execution_count": 1,
   "metadata": {
    "collapsed": true,
    "deletable": true,
    "editable": true
   },
   "outputs": [],
   "source": [
    "# import all the SQL query strings for creating FVS output tables\n",
    "from FVSoutput_SQL_createDBtables import *"
   ]
  },
  {
   "cell_type": "code",
   "execution_count": null,
   "metadata": {
    "collapsed": false,
    "deletable": true,
    "editable": true
   },
   "outputs": [],
   "source": [
    "fvs_cases"
   ]
  },
  {
   "cell_type": "code",
   "execution_count": 2,
   "metadata": {
    "collapsed": true,
    "deletable": true,
    "editable": true
   },
   "outputs": [],
   "source": [
    "import psycopg2\n",
    "from psycopg2.extensions import ISOLATION_LEVEL_AUTOCOMMIT"
   ]
  },
  {
   "cell_type": "markdown",
   "metadata": {
    "deletable": true,
    "editable": true
   },
   "source": [
    "## Create FVSOut"
   ]
  },
  {
   "cell_type": "code",
   "execution_count": null,
   "metadata": {
    "collapsed": false,
    "deletable": true,
    "editable": true
   },
   "outputs": [],
   "source": [
    "# enter the name and username/owner for the FVS output databse you want as strings\n",
    "db_out = '\"Rotations\"'\n",
    "owner = 'ubuntu'"
   ]
  },
  {
   "cell_type": "code",
   "execution_count": null,
   "metadata": {
    "collapsed": false,
    "deletable": true,
    "editable": true
   },
   "outputs": [],
   "source": [
    "# enter the dbname, user, and host for creating a new database within PostgreSQL (e.g., your default postgres user and db)\n",
    "my_db = 'postgres'\n",
    "my_user = 'postgres'\n",
    "my_host = 'localhost'\n",
    "\n",
    "conn_string = \"dbname={dbname} user={user} host={host}\".format(dbname=my_db, user=my_user, host=my_host)\n",
    "conn = psycopg2.connect(conn_string) # password stored in pgpass\n",
    "conn.set_isolation_level(ISOLATION_LEVEL_AUTOCOMMIT)\n",
    "\n",
    "with conn:\n",
    "    with conn.cursor() as cur:\n",
    "        # check to see if the owner exists as a user already, if not, create it\n",
    "        SQL = \"SELECT rolname FROM pg_roles WHERE rolname=(%s)\"\n",
    "        cur.execute(SQL, [owner])\n",
    "        if cur.fetchone() == None: # user doesn't exist\n",
    "            print(owner, \"doesn't exist as a PostgreSQL user. Creating a new user.\", end='... ')\n",
    "            cur.execute('CREATE USER {username};'.format(username=owner))\n",
    "            print('Done.')\n",
    "        \n",
    "        # check to see if database exists\n",
    "        SQL = \"SELECT datname FROM pg_database WHERE datname={dbname};\".format(dbname=db_out)\n",
    "        try:\n",
    "            cur.execute(SQL)\n",
    "            print('That database already exists... handle your business.')\n",
    "        except psycopg2.ProgrammingError: # if database doesn't exist, programming error is returned\n",
    "            cur.execute('CREATE DATABASE {dbname} OWNER={owner};'.format(dbname=db_out, owner=owner))\n",
    "\n",
    "    with conn.cursor() as cur:\n",
    "        # confirm the database is created\n",
    "        cur.execute(SQL, [db_out])\n",
    "        print('Created your new database:', db_out)\n",
    "\n",
    "conn.close()"
   ]
  },
  {
   "cell_type": "code",
   "execution_count": null,
   "metadata": {
    "collapsed": false,
    "deletable": true,
    "editable": true
   },
   "outputs": [],
   "source": [
    "# enter the dbname, user, and host for creating a new database within PostgreSQL (e.g., your default postgres user and db)\n",
    "my_db = 'postgres'\n",
    "my_user = 'postgres'\n",
    "my_host = 'localhost'\n",
    "\n",
    "conn_string = \"dbname={dbname} user={user} host={host}\".format(dbname=my_db, user=my_user, host=my_host)\n",
    "conn = psycopg2.connect(conn_string) # password stored in pgpass\n",
    "with conn:\n",
    "    with conn.cursor() as cur:\n",
    "       # check to see if database exists\n",
    "        SQL = \"SELECT datname FROM pg_database WHERE datname={dbname};\".format(dbname=db_out)\n",
    "        cur.execute(SQL)\n",
    "        print(cur.fetchall())\n",
    "conn.close()"
   ]
  },
  {
   "cell_type": "markdown",
   "metadata": {
    "deletable": true,
    "editable": true
   },
   "source": [
    "A helper function to choose what tables to create in FVS Output database."
   ]
  },
  {
   "cell_type": "code",
   "execution_count": 3,
   "metadata": {
    "collapsed": true,
    "deletable": true,
    "editable": true
   },
   "outputs": [],
   "source": [
    "def create_tables(conn_str, table_SQLs):\n",
    "    '''\n",
    "    Creates tables in a PostgreSQL database to hold FVS Outputs.\n",
    "    ===========\n",
    "    Arguments:\n",
    "    conn_str = A string for the database connection. \n",
    "    table_SQLs = A list of valid FVS table names (imported from FVSoutput_SQL_createDBtables.py)\n",
    "    '''\n",
    "    with psycopg2.connect(conn_string) as conn:\n",
    "        with conn.cursor() as cur:\n",
    "            for SQL in table_SQLs:\n",
    "                print(SQL)\n",
    "                cur.execute(SQL)\n",
    "                print('Created', SQL.split(' ')[2], end='... ')\n",
    "    conn.close()\n",
    "    print('Done.')"
   ]
  },
  {
   "cell_type": "markdown",
   "metadata": {
    "deletable": true,
    "editable": true
   },
   "source": [
    "## Create Tables in FVSOut\n",
    "\n",
    "The following tables are available to use. All should be pre-prended with \"fvs_\": \n",
    "\n",
    "**Base FVS (incl. DB Extension):**  \n",
    "atrtrlist, cases, compute, cutlist, strclass, summary, treelist\n",
    "\n",
    "**Fire & Fuels Extension (FFE):**  \n",
    "*General:* canprofile, snagdet, down_wood_cov, down_wood_vol, mortality, snagsum  \n",
    "*Fire/Fuels:* burnreport, consumption, potfire, fuels  \n",
    "*Carbon:* carbon, hrv_carbon, \n",
    "\n",
    "\n",
    "\n",
    "**ECON Extension:**  \n",
    "econharvestvalue, econsummary\n",
    "\n",
    "**Mountain Pine Beetle (MPB) Impact Model:**  \n",
    "bm_bkp, bm_main, bm_tree, bm_vol\n",
    "\n",
    "**Climate-FVS:**  \n",
    "climate  \n",
    "\n",
    "**Dwarf Mistletoe:**  \n",
    "dm_spp_sum, dm_stnd_sum  \n",
    "\n",
    "**Western Root Disease:**  \n",
    "rd_sum, rd_det, rd_beetle"
   ]
  },
  {
   "cell_type": "code",
   "execution_count": 4,
   "metadata": {
    "collapsed": true,
    "deletable": true,
    "editable": true
   },
   "outputs": [],
   "source": [
    "# specify the tables you want to create\n",
    "my_tables = [fvs_cases, fvs_summary, fvs_carbon, fvs_hrv_carbon, fvs_econharvestvalue, fvs_econsummary]"
   ]
  },
  {
   "cell_type": "markdown",
   "metadata": {
    "deletable": true,
    "editable": true
   },
   "source": [
    "## Create the tables in your output database"
   ]
  },
  {
   "cell_type": "code",
   "execution_count": 5,
   "metadata": {
    "collapsed": false,
    "deletable": true,
    "editable": true
   },
   "outputs": [
    {
     "name": "stdout",
     "output_type": "stream",
     "text": [
      "\n",
      "CREATE TABLE cases (\n",
      "caseid varchar(36) NOT NULL,\n",
      "stand_cn varchar(40),\n",
      "standid varchar(26),\n",
      "mgmtid varchar(4),\n",
      "runtitle varchar(72),\n",
      "keywordfile varchar(50),\n",
      "samplingwt real,\n",
      "variant varchar(2),\n",
      "version varchar(10),\n",
      "rv varchar(8),\n",
      "groups varchar(250),\n",
      "rundatetime varchar(19)\n",
      ");\n",
      "\n",
      "CREATE VIEW fvs_cases AS\n",
      "SELECT * FROM cases LIMIT 0;\n",
      "\n",
      "CREATE RULE redirect_cases AS\n",
      "ON INSERT TO fvs_cases\n",
      "DO INSTEAD INSERT INTO cases VALUES (NEW.*);\n",
      "\n",
      "Created cases... \n",
      "CREATE TABLE summary (\n",
      "caseid varchar(36),\n",
      "standid varchar(26),\n",
      "year integer,\n",
      "age integer,\n",
      "tpa real,\n",
      "ba real,\n",
      "sdi real,\n",
      "ccf real,\n",
      "topht real,\n",
      "qmd real,\n",
      "tcuft real,\n",
      "mcuft real,\n",
      "bdft real,\n",
      "rtpa real,\n",
      "rtcuft real,\n",
      "rmcuft real,\n",
      "rbdft real,\n",
      "atba real,\n",
      "atsdi real,\n",
      "atccf real,\n",
      "attopht real,\n",
      "atqmd real,\n",
      "prdlen integer,\n",
      "acc real,\n",
      "mort real,\n",
      "mai real,\n",
      "fortyp integer,\n",
      "sizecls integer,\n",
      "stkcls integer\n",
      ");\n",
      "\n",
      "CREATE VIEW fvs_summary AS\n",
      "SELECT * FROM summary LIMIT 0;\n",
      "\n",
      "CREATE RULE redirect_summary AS\n",
      "ON INSERT TO fvs_summary\n",
      "DO INSTEAD INSERT INTO summary VALUES (NEW.*);\n",
      "\n",
      "Created summary... \n",
      "CREATE TABLE carbon (\n",
      "caseid varchar(36) NOT NULL,\n",
      "standid varchar(26) NOT NULL,\n",
      "year integer,\n",
      "aboveground_total_live real,\n",
      "aboveground_merch_live real,\n",
      "belowground_live real,\n",
      "belowground_dead real,\n",
      "standing_dead real,\n",
      "forest_down_dead_wood real,\n",
      "forest_floor real,\n",
      "forest_shrub_herb real,\n",
      "total_stand_carbon real,\n",
      "total_removed_carbon real,\n",
      "carbon_released_from_fire real\n",
      ");\n",
      "\n",
      "CREATE VIEW fvs_carbon AS\n",
      "SELECT * FROM carbon LIMIT 0;\n",
      "\n",
      "CREATE RULE redirect_carbon AS\n",
      "ON INSERT TO fvs_carbon\n",
      "DO INSTEAD INSERT INTO carbon VALUES (NEW.*);\n",
      "\n",
      "Created carbon... \n",
      "CREATE TABLE hrv_carbon (\n",
      "caseid varchar(36) NOT NULL,\n",
      "standid varchar(26) NOT NULL,\n",
      "year integer,\n",
      "products real,\n",
      "landfill real,\n",
      "energy real,\n",
      "emissions real,\n",
      "merch_carbon_stored real,\n",
      "merch_carbon_removed real\n",
      ");\n",
      "\n",
      "CREATE VIEW fvs_hrv_carbon AS\n",
      "SELECT * FROM hrv_carbon LIMIT 0;\n",
      "\n",
      "CREATE RULE redirect_hrv_carbon AS\n",
      "ON INSERT TO fvs_hrv_carbon\n",
      "DO INSTEAD INSERT INTO hrv_carbon VALUES (NEW.*);\n",
      "\n",
      "Created hrv_carbon... \n",
      "CREATE TABLE econharvestvalue (\n",
      "caseid varchar(36) NOT NULL,\n",
      "year integer NOT NULL,\n",
      "species varchar(8) NOT NULL,\n",
      "min_dib real,\n",
      "max_dib real,\n",
      "min_dbh real,\n",
      "max_dbh real,\n",
      "tpa_removed integer,\n",
      "tpa_value integer,\n",
      "tons_per_acre integer,\n",
      "ft3_removed integer,\n",
      "ft3_value integer,\n",
      "board_ft_removed integer,\n",
      "board_ft_value integer,\n",
      "total_value integer\n",
      ");\n",
      "\n",
      "CREATE VIEW fvs_econharvestvalue AS\n",
      "SELECT * FROM econharvestvalue LIMIT 0;\n",
      "\n",
      "CREATE RULE redirect_econharvestvalue AS\n",
      "ON INSERT TO fvs_econharvestvalue\n",
      "DO INSTEAD INSERT INTO econharvestvalue VALUES (NEW.*);\n",
      "\n",
      "Created econharvestvalue... \n",
      "CREATE TABLE econsummary (\n",
      "caseid varchar(36) NOT NULL,\n",
      "standid varchar(26),\n",
      "year integer NOT NULL,\n",
      "period integer,\n",
      "pretend_harvest varchar(3),\n",
      "undiscounted_cost real,\n",
      "undiscounted_revenue real,\n",
      "discounted_cost real,\n",
      "discounted_revenue real,\n",
      "pnv real,\n",
      "irr real,\n",
      "bc_ratio real,\n",
      "rrr real,\n",
      "sev real,\n",
      "value_of_forest real,\n",
      "value_of_trees real,\n",
      "mrch_cubic_volume integer,\n",
      "mrch_boardfoot_volume integer,\n",
      "discount_rate real,\n",
      "given_sev real\n",
      ");\n",
      "\n",
      "CREATE VIEW fvs_econsummary AS\n",
      "SELECT * FROM econsummary LIMIT 0;\n",
      "\n",
      "CREATE RULE redirect_econsummary AS\n",
      "ON INSERT TO fvs_econsummary\n",
      "DO INSTEAD INSERT INTO econsummary VALUES (NEW.*);\n",
      "\n",
      "Created econsummary... Done.\n"
     ]
    }
   ],
   "source": [
    "conn_string = \"dbname={dbname} user={user} host={host}\".format(dbname=\"FVSOut\", user='postgres', host='localhost')\n",
    "create_tables(conn_string, my_tables)"
   ]
  }
 ],
 "metadata": {
  "kernelspec": {
   "display_name": "Python [conda env:Py3.5]",
   "language": "python",
   "name": "conda-env-Py3.5-py"
  },
  "language_info": {
   "codemirror_mode": {
    "name": "ipython",
    "version": 3
   },
   "file_extension": ".py",
   "mimetype": "text/x-python",
   "name": "python",
   "nbconvert_exporter": "python",
   "pygments_lexer": "ipython3",
   "version": "3.5.3"
  }
 },
 "nbformat": 4,
 "nbformat_minor": 2
}
