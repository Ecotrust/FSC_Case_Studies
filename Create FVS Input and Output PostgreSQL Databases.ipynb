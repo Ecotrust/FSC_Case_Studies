{
 "cells": [
  {
   "cell_type": "code",
   "execution_count": 8,
   "metadata": {
    "collapsed": true
   },
   "outputs": [],
   "source": [
    "import psycopg2\n",
    "from psycopg2.extensions import ISOLATION_LEVEL_AUTOCOMMIT"
   ]
  },
  {
   "cell_type": "code",
   "execution_count": 39,
   "metadata": {
    "collapsed": false
   },
   "outputs": [],
   "source": [
    "conn = psycopg2.connect(\"dbname='postgres' user='postgres' host='localhost' password='secret'\")\n",
    "conn.set_isolation_level(ISOLATION_LEVEL_AUTOCOMMIT)\n",
    "cur = conn.cursor()"
   ]
  },
  {
   "cell_type": "code",
   "execution_count": 40,
   "metadata": {
    "collapsed": false
   },
   "outputs": [],
   "source": [
    "cur.execute('CREATE DATABASE \"FVSIn\"')\n",
    "conn.close()"
   ]
  },
  {
   "cell_type": "code",
   "execution_count": 41,
   "metadata": {
    "collapsed": false
   },
   "outputs": [],
   "source": [
    "conn = psycopg2.connect(\"dbname='FVSIn' user='postgres' host='localhost' password='secret'\")"
   ]
  },
  {
   "cell_type": "code",
   "execution_count": 42,
   "metadata": {
    "collapsed": false
   },
   "outputs": [],
   "source": [
    "with conn:\n",
    "    with conn.cursor() as cur:\n",
    "        SQL = '''\n",
    "        CREATE TABLE stand_init\n",
    "        (stand_cn varchar(26), stand_id varchar(26), variant varchar(11), inv_year int,\n",
    "        groups text, addfiles text, fvskeywords text, latitude double precision,\n",
    "        longitude double precision, region int, forest int, district int,\n",
    "        compartment int, location int, ecoregion varchar(6), pv_code varchar(10),\n",
    "        pv_ref_code int, age int, aspect double precision, slope double precision,\n",
    "        elevation int, elevft double precision, basal_area_factor double precision,\n",
    "        inv_plot_size double precision, brk_dbh double precision, num_plots int,\n",
    "        nonstk_plots int, sam_w double precision, stk_pcnt double precision,\n",
    "        dg_trans int, dg_measure int, htg_trans int, htg_measure int, mort_measure int,\n",
    "        max_ba double precision, max_sdi double precision, site_species varchar(8),\n",
    "        site_index double precision, model_type int, physio_region int, forest_type int,\n",
    "        state int, county int, fuel_model int, fuel_0_25 double precision,\n",
    "        fuel_25_1 double precision, fuel_0_1 double precision,\n",
    "        fuel_1_3 double precision, fuel_3_6 double precision,\n",
    "        fuel_6_12 double precision, fuel_gt_12 double precision,\n",
    "        fuel_litter double precision, fuel_duff double precision,\n",
    "        photo_ref int, photo_code varchar(13), gis_id int);\n",
    "        '''\n",
    "        cur.execute(SQL)"
   ]
  },
  {
   "cell_type": "code",
   "execution_count": 43,
   "metadata": {
    "collapsed": true
   },
   "outputs": [],
   "source": [
    "with conn:\n",
    "    with conn.cursor() as cur:\n",
    "        SQL = '''\n",
    "        COPY stand_init \n",
    "        FROM 'C:\\GitHub\\FSC_Case_Studies\\Data\\FVS_StandInit.csv' \n",
    "        DELIMITER ',' CSV HEADER;\n",
    "        '''\n",
    "        cur.execute(SQL)"
   ]
  },
  {
   "cell_type": "code",
   "execution_count": 44,
   "metadata": {
    "collapsed": false
   },
   "outputs": [],
   "source": [
    "with conn:\n",
    "    with conn.cursor() as cur:\n",
    "        SQL = '''\n",
    "        CREATE TABLE tree_init\n",
    "        (stand_id varchar(26), standplot_id varchar (26), plot_id varchar(26), \n",
    "        tree_id int, tree_count double precision, history int, species varchar(8),\n",
    "        dbh double precision, dg double precision, ht double precision,\n",
    "        htg double precision, httopk double precision, crratio double precision,\n",
    "        damage1 int, severity1 double precision, damage2 int,\n",
    "        severity2 double precision, damage3 int, severity3 double precision,\n",
    "        treevalue int, prescription double precision, age int);\n",
    "        '''\n",
    "        cur.execute(SQL)"
   ]
  },
  {
   "cell_type": "code",
   "execution_count": 45,
   "metadata": {
    "collapsed": false
   },
   "outputs": [],
   "source": [
    "with conn:\n",
    "    with conn.cursor() as cur:\n",
    "        SQL = '''\n",
    "        COPY tree_init \n",
    "        FROM 'C:\\GitHub\\FSC_Case_Studies\\Data\\FVS_TreeInit.csv' \n",
    "        DELIMITER ',' CSV HEADER;\n",
    "        '''\n",
    "        cur.execute(SQL)"
   ]
  },
  {
   "cell_type": "code",
   "execution_count": 46,
   "metadata": {
    "collapsed": true
   },
   "outputs": [],
   "source": [
    "with conn:\n",
    "    with conn.cursor() as cur:\n",
    "        SQL = '''\n",
    "        CREATE TABLE rotation_age\n",
    "        (stand_id varchar(26), stand_cn varchar(26), fpa_npv int, fsc_npv int,\n",
    "        fpa_msy int, fsc_msy int);\n",
    "        '''\n",
    "        cur.execute(SQL)"
   ]
  },
  {
   "cell_type": "code",
   "execution_count": 48,
   "metadata": {
    "collapsed": false
   },
   "outputs": [],
   "source": [
    "with conn:\n",
    "    with conn.cursor() as cur:\n",
    "        SQL = '''\n",
    "        COPY rotation_age \n",
    "        FROM 'C:\\GitHub\\FSC_Case_Studies\\Data\\RotoAge.csv' \n",
    "        DELIMITER ',' CSV HEADER;\n",
    "        '''\n",
    "        cur.execute(SQL)"
   ]
  },
  {
   "cell_type": "code",
   "execution_count": 50,
   "metadata": {
    "collapsed": true
   },
   "outputs": [],
   "source": [
    "conn.close()"
   ]
  }
 ],
 "metadata": {
  "kernelspec": {
   "display_name": "Python [conda env:Py3.5]",
   "language": "python",
   "name": "conda-env-Py3.5-py"
  },
  "language_info": {
   "codemirror_mode": {
    "name": "ipython",
    "version": 3
   },
   "file_extension": ".py",
   "mimetype": "text/x-python",
   "name": "python",
   "nbconvert_exporter": "python",
   "pygments_lexer": "ipython3",
   "version": "3.5.3"
  }
 },
 "nbformat": 4,
 "nbformat_minor": 2
}
