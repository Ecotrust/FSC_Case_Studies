{
 "cells": [
  {
   "cell_type": "markdown",
   "metadata": {},
   "source": [
    "<h2>Construct keyfiles from project directory containing a Base FVS Rx template.</h2>"
   ]
  },
  {
   "cell_type": "code",
   "execution_count": 217,
   "metadata": {},
   "outputs": [],
   "source": [
    "import os\n",
    "import glob\n",
    "from jinja2 import Template\n",
    "import pandas as pd\n",
    "import random"
   ]
  },
  {
   "cell_type": "markdown",
   "metadata": {},
   "source": [
    "Create a jinja2 template from a Base_Rx.key file."
   ]
  },
  {
   "cell_type": "code",
   "execution_count": 218,
   "metadata": {},
   "outputs": [],
   "source": [
    "# # FOR LONG ROTATIONS\n",
    "# rotation = \"LONG\"\n",
    "# # read in the base_rx keyfile template using jinja2 templating\n",
    "# with open(os.path.join('Rx_Template','LongRotation.key'), 'r') as base_keyfile:\n",
    "#     template = Template(base_keyfile.read())\n",
    "#     print('Found LongRotation.key and created jinja2 template.')"
   ]
  },
  {
   "cell_type": "code",
   "execution_count": 219,
   "metadata": {},
   "outputs": [],
   "source": [
    "# # FOR SHORT ROTATIONS\n",
    "# rotation = \"SHORT_\"\n",
    "# # read in the base_rx keyfile template using jinja2 templating\n",
    "# with open(os.path.join('Rx_Template','ShortRotation.key'), 'r') as base_keyfile:\n",
    "#     template = Template(base_keyfile.read())\n",
    "#     print('Found ShortRotation.key and created jinja2 template.')"
   ]
  },
  {
   "cell_type": "code",
   "execution_count": 220,
   "metadata": {},
   "outputs": [
    {
     "name": "stdout",
     "output_type": "stream",
     "text": [
      "Found ShortRotation.key and created jinja2 template.\n"
     ]
    }
   ],
   "source": [
    "# FOR CARBON ROTATIONS\n",
    "rotation = \"CARBON_50\"\n",
    "# read in the base_rx keyfile template using jinja2 templating\n",
    "with open(os.path.join('Rx_Template','Carbon_Rotations.key'), 'r') as base_keyfile:\n",
    "    template = Template(base_keyfile.read())\n",
    "    print('Found ShortRotation.key and created jinja2 template.')"
   ]
  },
  {
   "cell_type": "code",
   "execution_count": 221,
   "metadata": {},
   "outputs": [],
   "source": [
    "# # FOR GROW ONLY/YIELD TABLE ROTATIONS\n",
    "# rotation = \"GROWONLY\"\n",
    "# # read in the base_rx keyfile template using jinja2 templating\n",
    "# with open(os.path.join('Rx_Template','GrowOnly.key'), 'r') as base_keyfile:\n",
    "#     template = Template(base_keyfile.read())\n",
    "#     print('Found GrowOnly.key and created jinja2 template.')"
   ]
  },
  {
   "cell_type": "code",
   "execution_count": 222,
   "metadata": {},
   "outputs": [],
   "source": [
    "# # FOR RIPARIAN PRESCRIPTION\n",
    "# rotation = \"riparian\"\n",
    "# # read in the base_rx keyfile template using jinja2 templating\n",
    "# with open(os.path.join('Rx_Template','Riparian.key'), 'r') as base_keyfile:\n",
    "#     template = Template(base_keyfile.read())\n",
    "#     print('Found ShortRotation.key and created jinja2 template.')"
   ]
  },
  {
   "cell_type": "markdown",
   "metadata": {},
   "source": [
    "A dictionary for holding the items to insert into an FVS keyfile template using jinja2 templating."
   ]
  },
  {
   "cell_type": "code",
   "execution_count": 223,
   "metadata": {},
   "outputs": [],
   "source": [
    "inserts = {}"
   ]
  },
  {
   "cell_type": "markdown",
   "metadata": {},
   "source": [
    "Specify the FVS output database for insertion in the jinja2 template"
   ]
  },
  {
   "cell_type": "code",
   "execution_count": 224,
   "metadata": {},
   "outputs": [],
   "source": [
    "inserts['FVSOut'] = 'carbon postgres postgres'"
   ]
  },
  {
   "cell_type": "markdown",
   "metadata": {},
   "source": [
    "Look in the Rx_Template directory, add all the kcp files to the `inserts` dictionary."
   ]
  },
  {
   "cell_type": "code",
   "execution_count": 225,
   "metadata": {},
   "outputs": [
    {
     "name": "stdout",
     "output_type": "stream",
     "text": [
      "Found the following kcp files in the Rx_Template directory:\n",
      "Mgmt_Costs.kcp... added to template.\n"
     ]
    }
   ],
   "source": [
    "template_kcps = glob.glob(os.path.join('Rx_Template','*.kcp'))\n",
    "if len(template_kcps) > 0:\n",
    "    print('Found the following kcp files in the Rx_Template directory:')\n",
    "    for kcp in template_kcps:\n",
    "        fname = os.path.split(kcp)[-1]\n",
    "        print(fname, end='...')\n",
    "        # read the kcp file\n",
    "        key = fname.split('.')[0] # key for item in inserts dictionary\n",
    "        with open(kcp, 'r') as item:\n",
    "            value = item.read()\n",
    "        # add the contents of the kcp file to the inserts dictionary\n",
    "        inserts[key] = value\n",
    "        print(' added to template.')\n",
    "else: \n",
    "    raise FileNotFoundError('No kcp files found in the Rx_Template directory.')"
   ]
  },
  {
   "cell_type": "markdown",
   "metadata": {},
   "source": [
    "Gather variant-specific KCP files for SDImax and Log_Values"
   ]
  },
  {
   "cell_type": "code",
   "execution_count": 226,
   "metadata": {
    "scrolled": true
   },
   "outputs": [
    {
     "name": "stdout",
     "output_type": "stream",
     "text": [
      "Found the following kcp files in the variant_specific_kcps directory:\n",
      "OP logvalue... added to template.\n",
      "PN logvalue... added to template.\n",
      "WC logvalue... added to template.\n",
      "OP SDImax... added to template.\n",
      "PN SDImax... added to template.\n",
      "WC SDImax... added to template.\n"
     ]
    }
   ],
   "source": [
    "SDImax_dict = {} # variant: SDImax keywords\n",
    "logvalue_dict = {} # variant: log value specs\n",
    "\n",
    "variant_kcps = glob.glob(os.path.join('Rx_Template','variant_specific_kcps','*.kcp'))\n",
    "if len(variant_kcps) > 0:\n",
    "    print('Found the following kcp files in the variant_specific_kcps directory:')\n",
    "    for kcp in variant_kcps:\n",
    "        fname = os.path.split(kcp)[-1]\n",
    "        variant = fname.split('.')[0][-2:]\n",
    "        kcp_type = fname.split('.')[0][:-3]\n",
    "        print(variant, kcp_type, end='...')\n",
    "        # read the kcp file\n",
    "        with open(kcp, 'r') as item:\n",
    "            key = variant\n",
    "            value = item.read()\n",
    "        if kcp_type == 'SDImax':\n",
    "            SDImax_dict[key] = value\n",
    "        elif kcp_type == 'logvalue':\n",
    "            logvalue_dict[key] = value\n",
    "        print(' added to template.')\n",
    "else: \n",
    "    raise FileNotFoundError('No kcp files found in the variant_specific_kcps directory.')"
   ]
  },
  {
   "cell_type": "markdown",
   "metadata": {},
   "source": [
    "A function to use for creating keyfiles."
   ]
  },
  {
   "cell_type": "code",
   "execution_count": 227,
   "metadata": {},
   "outputs": [],
   "source": [
    "def create_keyfile(variant, site_index): #, STATE, STRTYPE, STRSIZE):\n",
    "    '''\n",
    "    Creates a single FVS keyfile based on the jinja2 template.\n",
    "    '''\n",
    "    inserts['SDImax'] = SDImax_dict[variant]\n",
    "    inserts['Log_Value'] = logvalue_dict[variant]\n",
    "    inserts['site_index'] = site_index\n",
    "    inserts['variant'] = variant\n",
    "    \n",
    "#     inserts['STATE']=STATE\n",
    "#     inserts['STRTYPE']=STRTYPE\n",
    "#     inserts['STRSIZE']=STRSIZE\n",
    "    \n",
    "#     fname = 'fvs{}_site{}_SDIMAX{}_BAIMULT{}_{}.key'.format(variant,\n",
    "#                                                             site_index,\n",
    "#                                                             sdi_max,str(bai_mult).replace('.',''),\n",
    "#                                                             rotation)\n",
    "    fname = 'fvs{}_site{}_{}.key'.format(variant,site_index,rotation)\n",
    "\n",
    "#     fname = 'fvs{}_site{}_state{}_type{}_size{}.key'.format(variant,site_index,STATE,STRTYPE,STRSIZE)\n",
    "    path = os.path.abspath('keyfiles_to_run')\n",
    "    if not os.path.exists(path):\n",
    "        os.makedirs(path, exist_ok=True)\n",
    "    with open(os.path.join('keyfiles_to_run',fname),'w') as keyfile:\n",
    "        keyfile.write(template.render(**inserts))"
   ]
  },
  {
   "cell_type": "code",
   "execution_count": 228,
   "metadata": {},
   "outputs": [],
   "source": [
    "DF50 = [x for x in range(75, 135, 5)] # Site Classes II - IV\n",
    "# DF50 = [x for x in range(90, 125, 5)] # Douglas-fir 50-year Site Index"
   ]
  },
  {
   "cell_type": "code",
   "execution_count": 229,
   "metadata": {},
   "outputs": [],
   "source": [
    "# Define Soil Expectation Values for Flat Ground and Steep Ground\n",
    "sev_lookup = {\n",
    "    'sev_flat':{\n",
    "        50:1, 55:1, 60:1, 65:1, 70:1, 75:1, 80:1, 85:1, \n",
    "        90:1, 95:1814, 100:2283, 105:2463, 110:2681, 115:3568, 120:3950, 125:4024, \n",
    "        130:4137, 135:4358, 140:4827, 145:5044, 150:5211, 155:5206, 160:5598\n",
    "                },\n",
    "    'sev_steep':{\n",
    "        50:1, 55:1, 60:1, 65:1, 70:1, 75:1, 80:1, 85:1, \n",
    "        90:1, 95:1388, 100:1701, 105:1942, 110:2102, 115:2870, 120:3069, 125:3326, \n",
    "        130:3406, 135:3761, 140:3870, 145:4185, 150:4172, 155:4159, 160:4540\n",
    "                }\n",
    "        }"
   ]
  },
  {
   "cell_type": "markdown",
   "metadata": {},
   "source": [
    "Create the keyfiles!"
   ]
  },
  {
   "cell_type": "code",
   "execution_count": 230,
   "metadata": {},
   "outputs": [],
   "source": [
    "for site in DF50:\n",
    "    if site >= 115:\n",
    "        sdi_max = 550\n",
    "        bai_mult = 0.5\n",
    "        inserts['sdi_max'] = sdi_max\n",
    "        inserts['bai_mult'] = bai_mult\n",
    "        create_keyfile('PN', site)\n",
    "    elif site >= 95:\n",
    "        sdi_max = 450\n",
    "        bai_mult = 0.5\n",
    "        inserts['sdi_max'] = sdi_max\n",
    "        inserts['bai_mult'] = bai_mult\n",
    "        create_keyfile('PN', site)\n",
    "    elif site < 95:\n",
    "        sdi_max = 450\n",
    "        bai_mult = 0.3\n",
    "        inserts['sdi_max'] = sdi_max\n",
    "        inserts['bai_mult'] = bai_mult\n",
    "        create_keyfile('PN', site)\n",
    "\n",
    "# for site in DF50:\n",
    "#     for STATE in [41, 52]:\n",
    "#         for STRTYPE in [1,2,3,4]:\n",
    "#             for STRSIZE in [1,2,3]:\n",
    "#                 if site >= 115:\n",
    "#                     sdi_max = 550\n",
    "#                     bai_mult = 0.5\n",
    "#                     inserts['sdi_max'] = sdi_max\n",
    "#                     inserts['bai_mult'] = bai_mult\n",
    "#                     # lookup the soil expectation value for steep or flat slopes\n",
    "#                     # round the stand's site index down the nearest multiple of 5\n",
    "#                     #inserts['sev'] = sev_lookup['sev_steep' if slope > 35 else 'sev_flat'][site//5 * 5]\n",
    "#                     create_keyfile('PN', site, STATE, STRTYPE, STRSIZE)\n",
    "#                 elif site >= 95:\n",
    "#                     sdi_max = 450\n",
    "#                     bai_mult = 0.5\n",
    "#                     inserts['sdi_max'] = sdi_max\n",
    "#                     inserts['bai_mult'] = bai_mult\n",
    "#                     #inserts['sev'] = sev_lookup['sev_steep' if slope > 35 else 'sev_flat'][site//5 * 5]\n",
    "#                     create_keyfile('PN', site, STATE, STRTYPE, STRSIZE)\n",
    "#                 elif site < 95:\n",
    "#                     sdi_max = 450\n",
    "#                     bai_mult = 0.3\n",
    "#                     inserts['sdi_max'] = sdi_max\n",
    "#                     inserts['bai_mult'] = bai_mult\n",
    "#                     #inserts['sev'] = sev_lookup['sev_steep' if slope > 35 else 'sev_flat'][site//5 * 5]\n",
    "#                     create_keyfile('PN', site, STATE, STRTYPE, STRSIZE)"
   ]
  }
 ],
 "metadata": {
  "kernelspec": {
   "display_name": "Python [default]",
   "language": "python",
   "name": "python3"
  },
  "language_info": {
   "codemirror_mode": {
    "name": "ipython",
    "version": 3
   },
   "file_extension": ".py",
   "mimetype": "text/x-python",
   "name": "python",
   "nbconvert_exporter": "python",
   "pygments_lexer": "ipython3",
   "version": "3.6.4"
  }
 },
 "nbformat": 4,
 "nbformat_minor": 2
}
