{
 "cells": [
  {
   "cell_type": "markdown",
   "metadata": {},
   "source": [
    "<h2>Construct keyfiles from project directory containing a Base FVS Rx template.</h2>"
   ]
  },
  {
   "cell_type": "code",
   "execution_count": 1,
   "metadata": {},
   "outputs": [],
   "source": [
    "import os\n",
    "import glob\n",
    "from jinja2 import Template\n",
    "import pandas as pd\n",
    "import random"
   ]
  },
  {
   "cell_type": "markdown",
   "metadata": {},
   "source": [
    "Create a jinja2 template from a Base_Rx.key file."
   ]
  },
  {
   "cell_type": "code",
   "execution_count": 2,
   "metadata": {},
   "outputs": [],
   "source": [
    "# # FOR LONG ROTATIONS\n",
    "# rotation = \"LONG\"\n",
    "# # read in the base_rx keyfile template using jinja2 templating\n",
    "# with open(os.path.join('Rx_Template','LongRotation.key'), 'r') as base_keyfile:\n",
    "#     template = Template(base_keyfile.read())\n",
    "#     print('Found LongRotation.key and created jinja2 template.')"
   ]
  },
  {
   "cell_type": "code",
   "execution_count": 3,
   "metadata": {},
   "outputs": [],
   "source": [
    "# # FOR SHORT ROTATIONS\n",
    "# rotation = \"SHORT_SDIMAX536_HTGMULT90\"\n",
    "# # read in the base_rx keyfile template using jinja2 templating\n",
    "# with open(os.path.join('Rx_Template','ShortRotation.key'), 'r') as base_keyfile:\n",
    "#     template = Template(base_keyfile.read())\n",
    "#     print('Found ShortRotation.key and created jinja2 template.')"
   ]
  },
  {
   "cell_type": "code",
   "execution_count": 4,
   "metadata": {},
   "outputs": [
    {
     "name": "stdout",
     "output_type": "stream",
     "text": [
      "Found GrowOnly.key and created jinja2 template.\n"
     ]
    }
   ],
   "source": [
    "# FOR GROW ONLY/YIELD TABLE ROTATIONS\n",
    "rotation = \"GROWONLY\"\n",
    "# read in the base_rx keyfile template using jinja2 templating\n",
    "with open(os.path.join('Rx_Template','GrowOnlyPN.key'), 'r') as base_keyfile:\n",
    "    template = Template(base_keyfile.read())\n",
    "    print('Found GrowOnly.key and created jinja2 template.')"
   ]
  },
  {
   "cell_type": "code",
   "execution_count": 5,
   "metadata": {},
   "outputs": [],
   "source": [
    "# # FOR RIPARIAN PRESCRIPTION\n",
    "# rotation = \"riparian\"\n",
    "# # read in the base_rx keyfile template using jinja2 templating\n",
    "# with open(os.path.join('Rx_Template','test_riparian.key'), 'r') as base_keyfile:\n",
    "#     template = Template(base_keyfile.read())\n",
    "#     print('Found ShortRotation.key and created jinja2 template.')"
   ]
  },
  {
   "cell_type": "markdown",
   "metadata": {},
   "source": [
    "A dictionary for holding the items to insert into an FVS keyfile template using jinja2 templating."
   ]
  },
  {
   "cell_type": "code",
   "execution_count": 6,
   "metadata": {},
   "outputs": [],
   "source": [
    "inserts = {}"
   ]
  },
  {
   "cell_type": "markdown",
   "metadata": {},
   "source": [
    "Specify the FVS output database for insertion in the jinja2 template"
   ]
  },
  {
   "cell_type": "code",
   "execution_count": 7,
   "metadata": {},
   "outputs": [],
   "source": [
    "inserts['FVSOut'] = 'Rotations'"
   ]
  },
  {
   "cell_type": "markdown",
   "metadata": {},
   "source": [
    "Look in the Rx_Template directory, add all the kcp files to the `inserts` dictionary."
   ]
  },
  {
   "cell_type": "code",
   "execution_count": 8,
   "metadata": {},
   "outputs": [
    {
     "name": "stdout",
     "output_type": "stream",
     "text": [
      "Found the following kcp files in the Rx_Template directory:\n",
      "Mgmt_Costs.kcp... added to template.\n"
     ]
    }
   ],
   "source": [
    "template_kcps = glob.glob(os.path.join('Rx_Template','*.kcp'))\n",
    "if len(template_kcps) > 0:\n",
    "    print('Found the following kcp files in the Rx_Template directory:')\n",
    "    for kcp in template_kcps:\n",
    "        fname = os.path.split(kcp)[-1]\n",
    "        print(fname, end='...')\n",
    "        # read the kcp file\n",
    "        key = fname.split('.')[0] # key for item in inserts dictionary\n",
    "        with open(kcp, 'r') as item:\n",
    "            value = item.read()\n",
    "        # add the contents of the kcp file to the inserts dictionary\n",
    "        inserts[key] = value\n",
    "        print(' added to template.')\n",
    "else: \n",
    "    raise FileNotFoundError('No kcp files found in the Rx_Template directory.')"
   ]
  },
  {
   "cell_type": "markdown",
   "metadata": {},
   "source": [
    "Gather variant-specific KCP files for SDImax and Log_Values"
   ]
  },
  {
   "cell_type": "code",
   "execution_count": 9,
   "metadata": {},
   "outputs": [
    {
     "name": "stdout",
     "output_type": "stream",
     "text": [
      "Found the following kcp files in the variant_specific_kcps directory:\n",
      "OP logvalue... added to template.\n",
      "PN logvalue... added to template.\n",
      "WC logvalue... added to template.\n",
      "OP SDImax... added to template.\n",
      "PN SDImax... added to template.\n",
      "WC SDImax... added to template.\n"
     ]
    }
   ],
   "source": [
    "SDImax_dict = {} # variant: SDImax keywords\n",
    "logvalue_dict = {} # variant: log value specs\n",
    "\n",
    "variant_kcps = glob.glob(os.path.join('Rx_Template','variant_specific_kcps','*.kcp'))\n",
    "if len(variant_kcps) > 0:\n",
    "    print('Found the following kcp files in the variant_specific_kcps directory:')\n",
    "    for kcp in variant_kcps:\n",
    "        fname = os.path.split(kcp)[-1]\n",
    "        variant = fname.split('.')[0][-2:]\n",
    "        kcp_type = fname.split('.')[0][:-3]\n",
    "        print(variant, kcp_type, end='...')\n",
    "        # read the kcp file\n",
    "        with open(kcp, 'r') as item:\n",
    "            key = variant\n",
    "            value = item.read()\n",
    "        if kcp_type == 'SDImax':\n",
    "            SDImax_dict[key] = value\n",
    "        elif kcp_type == 'logvalue':\n",
    "            logvalue_dict[key] = value\n",
    "        print(' added to template.')\n",
    "else: \n",
    "    raise FileNotFoundError('No kcp files found in the variant_specific_kcps directory.')"
   ]
  },
  {
   "cell_type": "markdown",
   "metadata": {},
   "source": [
    "A function to use for creating keyfiles."
   ]
  },
  {
   "cell_type": "code",
   "execution_count": 10,
   "metadata": {},
   "outputs": [],
   "source": [
    "def create_keyfile(variant, site_index):#, STATE=0, STRTYPE=0, STRSIZE=0):\n",
    "    '''\n",
    "    Creates a single FVS keyfile based on the jinja2 template.\n",
    "    '''\n",
    "    inserts['SDImax'] = SDImax_dict[variant]\n",
    "    inserts['Log_Value'] = logvalue_dict[variant]\n",
    "    inserts['site_index'] = site_index\n",
    "    inserts['variant'] = variant\n",
    "    \n",
    "    #inserts['STATE']=STATE\n",
    "    #inserts['STRTYPE']=STRTYPE\n",
    "    #inserts['STRSIZE']=STRSIZE\n",
    "    \n",
    "    fname = 'fvs{}_site{}_SDIMAX{}_BAIMULT{}_{}.key'.format(variant,\n",
    "                                                            site_index,\n",
    "                                                            sdi_max,str(bai_mult).replace('.',''),\n",
    "                                                            rotation)\n",
    "    #fname = 'fvs{}_site{}_state{}_type{}_size{}.key'.format(variant,site_index,STATE,STRTYPE,STRSIZE)\n",
    "    path = os.path.abspath('keyfiles_to_run')\n",
    "    if not os.path.exists(path):\n",
    "        os.makedirs(path, exist_ok=True)\n",
    "    with open(os.path.join('keyfiles_to_run',fname),'w') as keyfile:\n",
    "        keyfile.write(template.render(**inserts))"
   ]
  },
  {
   "cell_type": "code",
   "execution_count": 11,
   "metadata": {},
   "outputs": [],
   "source": [
    "# DF50 = [x for x in range(75, 135, 5)] # Site Classes II - IV\n",
    "DF50 = [x for x in range(50, 165, 5)] # Douglas-fir 50-year Site Index"
   ]
  },
  {
   "cell_type": "markdown",
   "metadata": {},
   "source": [
    "Create the keyfiles!"
   ]
  },
  {
   "cell_type": "code",
   "execution_count": 12,
   "metadata": {},
   "outputs": [],
   "source": [
    "for site in DF50:\n",
    "    if site >= 115:\n",
    "        sdi_max = 550\n",
    "        bai_mult = 0.5\n",
    "        inserts['sdi_max'] = sdi_max\n",
    "        inserts['bai_mult'] = bai_mult\n",
    "        create_keyfile('PN', site)\n",
    "    elif site >= 95:\n",
    "        sdi_max = 450\n",
    "        bai_mult = 0.5\n",
    "        inserts['sdi_max'] = sdi_max\n",
    "        inserts['bai_mult'] = bai_mult\n",
    "        create_keyfile('PN', site)\n",
    "    elif site < 95:\n",
    "        sdi_max = 450\n",
    "        bai_mult = 0.3\n",
    "        inserts['sdi_max'] = sdi_max\n",
    "        inserts['bai_mult'] = bai_mult\n",
    "        create_keyfile('PN', site)\n",
    "# for site in DF50:\n",
    "#     for STATE in [0,41,53,0]:\n",
    "#         for STRTYPE in [0,1,2,3,4]:\n",
    "#             for STRSIZE in [0,1,2,3]:\n",
    "#                 create_keyfile('OP', site, STATE, STRTYPE, STRSIZE)"
   ]
  }
 ],
 "metadata": {
  "kernelspec": {
   "display_name": "Python [default]",
   "language": "python",
   "name": "python3"
  },
  "language_info": {
   "codemirror_mode": {
    "name": "ipython",
    "version": 3
   },
   "file_extension": ".py",
   "mimetype": "text/x-python",
   "name": "python",
   "nbconvert_exporter": "python",
   "pygments_lexer": "ipython3",
   "version": "3.5.5"
  }
 },
 "nbformat": 4,
 "nbformat_minor": 2
}
