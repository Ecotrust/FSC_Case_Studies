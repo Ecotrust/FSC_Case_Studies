{
 "cells": [
  {
   "cell_type": "markdown",
   "metadata": {},
   "source": [
    "<h2>Construct keyfiles from project directory containing a Base FVS Rx template.</h2>"
   ]
  },
  {
   "cell_type": "code",
   "execution_count": 1,
   "metadata": {},
   "outputs": [],
   "source": [
    "import os\n",
    "import glob\n",
    "from jinja2 import Template\n",
    "import pandas as pd\n",
    "import random"
   ]
  },
  {
   "cell_type": "markdown",
   "metadata": {},
   "source": [
    "Create a jinja2 template from a Base_Rx.key file."
   ]
  },
  {
   "cell_type": "code",
   "execution_count": 2,
   "metadata": {},
   "outputs": [
    {
     "name": "stdout",
     "output_type": "stream",
     "text": [
      "Found LongRotation.key and created jinja2 template.\n"
     ]
    }
   ],
   "source": [
    "# FOR LONG ROTATIONS\n",
    "rotation = \"LONG\"\n",
    "# read in the base_rx keyfile template using jinja2 templating\n",
    "with open(os.path.join('Rx_Template','LongRotation.key'), 'r') as base_keyfile:\n",
    "    template = Template(base_keyfile.read())\n",
    "    print('Found LongRotation.key and created jinja2 template.')"
   ]
  },
  {
   "cell_type": "code",
   "execution_count": 3,
   "metadata": {},
   "outputs": [],
   "source": [
    "# # FOR SHORT ROTATIONS\n",
    "# rotation = \"SHORT\"\n",
    "# # read in the base_rx keyfile template using jinja2 templating\n",
    "# with open(os.path.join('Rx_Template','ShortRotation.key'), 'r') as base_keyfile:\n",
    "#     template = Template(base_keyfile.read())\n",
    "#     print('Found ShortRotation.key and created jinja2 template.')"
   ]
  },
  {
   "cell_type": "markdown",
   "metadata": {},
   "source": [
    "A dictionary for holding the items to insert into an FVS keyfile template using jinja2 templating."
   ]
  },
  {
   "cell_type": "code",
   "execution_count": 4,
   "metadata": {},
   "outputs": [],
   "source": [
    "inserts = {}"
   ]
  },
  {
   "cell_type": "markdown",
   "metadata": {},
   "source": [
    "Specify the FVS output database for insertion in the jinja2 template"
   ]
  },
  {
   "cell_type": "code",
   "execution_count": 5,
   "metadata": {},
   "outputs": [],
   "source": [
    "inserts['FVSOut'] = 'Rotations'"
   ]
  },
  {
   "cell_type": "markdown",
   "metadata": {},
   "source": [
    "Look in the Rx_Template directory, add all the kcp files to the `inserts` dictionary."
   ]
  },
  {
   "cell_type": "code",
   "execution_count": 6,
   "metadata": {},
   "outputs": [
    {
     "name": "stdout",
     "output_type": "stream",
     "text": [
      "Found the following kcp files in the Rx_Template directory:\n",
      "Mgmt_Costs.kcp... added to template.\n"
     ]
    }
   ],
   "source": [
    "template_kcps = glob.glob(os.path.join('Rx_Template','*.kcp'))\n",
    "if len(template_kcps) > 0:\n",
    "    print('Found the following kcp files in the Rx_Template directory:')\n",
    "    for kcp in template_kcps:\n",
    "        fname = os.path.split(kcp)[-1]\n",
    "        print(fname, end='...')\n",
    "        # read the kcp file\n",
    "        key = fname.split('.')[0] # key for item in inserts dictionary\n",
    "        with open(kcp, 'r') as item:\n",
    "            value = item.read()\n",
    "        # add the contents of the kcp file to the inserts dictionary\n",
    "        inserts[key] = value\n",
    "        print(' added to template.')\n",
    "else: \n",
    "    raise FileNotFoundError('No kcp files found in the Rx_Template directory.')"
   ]
  },
  {
   "cell_type": "markdown",
   "metadata": {},
   "source": [
    "Gather variant-specific KCP files for SDImax and Log_Values"
   ]
  },
  {
   "cell_type": "code",
   "execution_count": 7,
   "metadata": {},
   "outputs": [
    {
     "name": "stdout",
     "output_type": "stream",
     "text": [
      "Found the following kcp files in the variant_specific_kcps directory:\n",
      "OP logvalue... added to template.\n",
      "PN logvalue... added to template.\n",
      "WC logvalue... added to template.\n",
      "OP SDImax... added to template.\n",
      "PN SDImax... added to template.\n",
      "WC SDImax... added to template.\n"
     ]
    }
   ],
   "source": [
    "SDImax_dict = {} # variant: SDImax keywords\n",
    "logvalue_dict = {} # variant: log value specs\n",
    "\n",
    "variant_kcps = glob.glob(os.path.join('Rx_Template','variant_specific_kcps','*.kcp'))\n",
    "if len(variant_kcps) > 0:\n",
    "    print('Found the following kcp files in the variant_specific_kcps directory:')\n",
    "    for kcp in variant_kcps:\n",
    "        fname = os.path.split(kcp)[-1]\n",
    "        variant = fname.split('.')[0][-2:]\n",
    "        kcp_type = fname.split('.')[0][:-3]\n",
    "        print(variant, kcp_type, end='...')\n",
    "        # read the kcp file\n",
    "        with open(kcp, 'r') as item:\n",
    "            key = variant\n",
    "            value = item.read()\n",
    "        if kcp_type == 'SDImax':\n",
    "            SDImax_dict[key] = value\n",
    "        elif kcp_type == 'logvalue':\n",
    "            logvalue_dict[key] = value\n",
    "        print(' added to template.')\n",
    "else: \n",
    "    raise FileNotFoundError('No kcp files found in the variant_specific_kcps directory.')"
   ]
  },
  {
   "cell_type": "markdown",
   "metadata": {},
   "source": [
    "A function to use for creating keyfiles."
   ]
  },
  {
   "cell_type": "code",
   "execution_count": 8,
   "metadata": {},
   "outputs": [],
   "source": [
    "def create_keyfile(variant, site_index):\n",
    "    '''\n",
    "    Creates a single FVS keyfile based on the jinja2 template.\n",
    "    '''\n",
    "    inserts['SDImax'] = SDImax_dict[variant]\n",
    "    inserts['Log_Value'] = logvalue_dict[variant]\n",
    "    inserts['site_index'] = site_index\n",
    "    inserts['variant'] = variant\n",
    "    # FVS slows down outputting to large databases, so we'll divide output among 10 databases\n",
    "    #inserts['db_num'] = random.randint(1,10) # add a random number, 1-10 for a output database suffix\n",
    "    \n",
    "    fname = 'fvs'+variant+'_DFsite'+str(site_index)+'_'+rotation+'.key'\n",
    "    path = os.path.abspath('keyfiles_to_run')\n",
    "    if not os.path.exists(path):\n",
    "        os.makedirs(path, exist_ok=True)\n",
    "    with open(os.path.join('keyfiles_to_run',fname),'w') as keyfile:\n",
    "        keyfile.write(template.render(**inserts))"
   ]
  },
  {
   "cell_type": "code",
   "execution_count": 9,
   "metadata": {},
   "outputs": [],
   "source": [
    "# range of site index values to use for OP variant\n",
    "DF50 = [x for x in range(50, 165, 5)] # Douglas-fir 50-year Site Index"
   ]
  },
  {
   "cell_type": "markdown",
   "metadata": {},
   "source": [
    "Create the keyfiles!"
   ]
  },
  {
   "cell_type": "code",
   "execution_count": 10,
   "metadata": {},
   "outputs": [],
   "source": [
    "for site in DF50:\n",
    "    create_keyfile('OP', site)"
   ]
  }
 ],
 "metadata": {
  "kernelspec": {
   "display_name": "Python [conda env:Py3.5]",
   "language": "python",
   "name": "conda-env-Py3.5-py"
  },
  "language_info": {
   "codemirror_mode": {
    "name": "ipython",
    "version": 3
   },
   "file_extension": ".py",
   "mimetype": "text/x-python",
   "name": "python",
   "nbconvert_exporter": "python",
   "pygments_lexer": "ipython3",
   "version": "3.5.3"
  }
 },
 "nbformat": 4,
 "nbformat_minor": 2
}
