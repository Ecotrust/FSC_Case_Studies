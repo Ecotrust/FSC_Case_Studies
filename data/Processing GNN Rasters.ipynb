{
 "cells": [
  {
   "cell_type": "code",
   "execution_count": 1,
   "metadata": {},
   "outputs": [],
   "source": [
    "import rasterio, rasterio.mask\n",
    "import fiona\n",
    "import glob\n",
    "import numpy as np\n",
    "from matplotlib import pyplot as plt\n",
    "from matplotlib import ticker\n",
    "import seaborn as sns\n",
    "import subprocess"
   ]
  },
  {
   "cell_type": "code",
   "execution_count": 2,
   "metadata": {},
   "outputs": [],
   "source": [
    "sns.set_style('darkgrid')"
   ]
  },
  {
   "cell_type": "markdown",
   "metadata": {},
   "source": [
    "## Process the rasters\n",
    "The GNN data covers Oregon, Washington, and California. We are working in a subset or this area in western Oregon and western Washington only. We will clip the data to the relevant area of interest and stack the rasters into a multi-band image for analysis. We will end up with rasters for Oregon and Washington that cover the extent of the ecoregions we are interested in for each state, as well as the extent of the parcels we sampled (both random samples and FSC-certified properties) in each state."
   ]
  },
  {
   "cell_type": "code",
   "execution_count": 48,
   "metadata": {},
   "outputs": [],
   "source": [
    "# First, let's clip the gigantic GNN rasters to the ecoregions in Oregon and Washington\n",
    "with fiona.open('./Spatial_Layers/ecoregions_by_state.shp', \"r\") as shapefile:\n",
    "    oregon_features = [feature['geometry'] for feature in shapefile if feature['properties']['State'] == 'OR']\n",
    "    washington_features = [feature['geometry'] for feature in shapefile if feature['properties']['State'] == 'WA']"
   ]
  },
  {
   "cell_type": "code",
   "execution_count": 47,
   "metadata": {},
   "outputs": [
    {
     "data": {
      "text/plain": [
       "['./GNNrasters\\\\age_float32.tif',\n",
       " './GNNrasters\\\\ba.tif',\n",
       " './GNNrasters\\\\biomass.tif',\n",
       " './GNNrasters\\\\siteindex_float32.tif',\n",
       " './GNNrasters\\\\volume.tif']"
      ]
     },
     "execution_count": 47,
     "metadata": {},
     "output_type": "execute_result"
    }
   ],
   "source": [
    "rasters = glob.glob('./GNNrasters/*.tif')\n",
    "rasters"
   ]
  },
  {
   "cell_type": "code",
   "execution_count": 50,
   "metadata": {},
   "outputs": [
    {
     "name": "stdout",
     "output_type": "stream",
     "text": [
      "Processing age_float32.tif\n",
      "Processing ba.tif\n",
      "Processing biomass.tif\n",
      "Processing siteindex_float32.tif\n",
      "Processing volume.tif\n"
     ]
    }
   ],
   "source": [
    "for raster in rasters:\n",
    "    basename = os.path.basename(raster)\n",
    "    print('Processing {}'.format(basename), end='... ')\n",
    "    with rasterio.open(raster) as src:\n",
    "        or_image, or_transform = rasterio.mask.mask(src, oregon_features, crop=True)\n",
    "        or_meta = src.meta.copy()\n",
    "        if or_meta['nodata'] == 65535: # the integer-formatted rasters were using this nodata value\n",
    "            or_image[or_image == 65535] = -9999.0 # change it to -9999\n",
    "        # some of the float rasters were using a negative number for nodata\n",
    "        or_image[or_image < 0] = -9999.0 # let's make them all consistently -9999\n",
    "        \n",
    "        or_meta.update({\"driver\": \"GTiff\",\n",
    "                        \"height\": or_image.shape[1],\n",
    "                        \"width\": or_image.shape[2],\n",
    "                        \"transform\": or_transform,\n",
    "                        \"nodata\": -9999.0})\n",
    "        \n",
    "        wa_image, wa_transform = rasterio.mask.mask(src, washington_features, crop=True)\n",
    "        wa_meta = src.meta.copy()\n",
    "        if wa_meta['nodata'] == 65535:\n",
    "            wa_image[wa_image == 65535] = -9999.0\n",
    "        wa_image[wa_image < 0] = -9999.0\n",
    "        \n",
    "        wa_meta.update({\"driver\": \"GTiff\",\n",
    "                        \"height\": wa_image.shape[1],\n",
    "                        \"width\": wa_image.shape[2],\n",
    "                        \"transform\": wa_transform,\n",
    "                        \"nodata\": -9999.0})\n",
    "        \n",
    "        # write out the data into new rasters\n",
    "        with rasterio.open('./GNNrasters/clipped/or_{}'.format(basename), \"w\", **or_meta) as dest:\n",
    "            dest.write(or_image)\n",
    "        with rasterio.open('./GNNrasters/clipped/wa_{}'.format(basename), \"w\", **wa_meta) as dest:\n",
    "            dest.write(wa_image)\n",
    "    print('Done.')"
   ]
  },
  {
   "cell_type": "code",
   "execution_count": 57,
   "metadata": {},
   "outputs": [],
   "source": [
    "# stack the rasters into multi-band images using the rasterio command line interface\n",
    "_dir = './GNNrasters/clipped/'\n",
    "cmd = 'rio stack {}or_age_float32.tif {}or_siteindex_float32.tif {}or_ba.tif {}or_volume.tif {}or_biomass.tif {}or_stacked.tif'.format(_dir)\n",
    "subprocess.call(cmd)\n",
    "cmd = 'rio stack {}wa_age_float32.tif {}wa_siteindex_float32.tif {}wa_ba.tif {}wa_volume.tif {}wa_biomass.tif {}wa_stacked.tif'.format(_dir)\n",
    "subprocess.call(cmd)"
   ]
  },
  {
   "cell_type": "markdown",
   "metadata": {},
   "source": [
    "## Extract the boundaries of all the parcels\n",
    "We will use these to mask out areas outside the properties in the landscape rasters and save these to new arrays for both the randomly-selected and FSC-certified properties."
   ]
  },
  {
   "cell_type": "code",
   "execution_count": 156,
   "metadata": {},
   "outputs": [],
   "source": [
    "# read all the shapefile features using fiona\n",
    "with fiona.open('./Spatial_Layers/parcel_boundaries.shp', \"r\") as shapefile:\n",
    "    or_random_features = [feature['geometry'] for feature in shapefile if feature['properties']['state'] == 41 and feature['properties']['Type'] == 'random']\n",
    "    or_fsc_features = [feature['geometry'] for feature in shapefile if feature['properties']['state'] == 41 and feature['properties']['Type'] == 'fsc']\n",
    "    wa_random_features = [feature['geometry'] for feature in shapefile if feature['properties']['state'] == 53 and feature['properties']['Type'] == 'random']\n",
    "    wa_fsc_features = [feature['geometry'] for feature in shapefile if feature['properties']['state'] == 53 and feature['properties']['Type'] == 'fsc']"
   ]
  },
  {
   "cell_type": "code",
   "execution_count": 157,
   "metadata": {},
   "outputs": [],
   "source": [
    "# apply a mask to the Washington raster changing areas outside parcels to nodata\n",
    "with rasterio.open(\"./GNNrasters/clipped/wa_stacked.tif\") as src:\n",
    "    wa_random_image, wa_random_transform = rasterio.mask.mask(src, wa_random_features, crop=True)\n",
    "    wa_random_meta = src.meta.copy()\n",
    "    wa_fsc_image, wa_fsc_transform = rasterio.mask.mask(src, wa_fsc_features, crop=True)\n",
    "    wa_fsc_meta = src.meta.copy()\n",
    "\n",
    "    wa_random_meta.update()\n",
    "    wa_fsc_meta.update({\"driver\": \"GTiff\",\n",
    "                        \"height\": wa_fsc_image.shape[1],\n",
    "                        \"width\": wa_fsc_image.shape[2],\n",
    "                        \"transform\": wa_fsc_transform})\n",
    "\n",
    "# write the data out to a new raster                                                                        \n",
    "with rasterio.open(\"./GNNrasters/clipped/wa_random_stacked.tif\", \"w\", **wa_random_meta) as dest:\n",
    "    dest.write(wa_random_image)\n",
    "with rasterio.open(\"./GNNrasters/clipped/wa_fsc_stacked.tif\", \"w\", **wa_fsc_meta) as dest:\n",
    "    dest.write(wa_fsc_image)"
   ]
  },
  {
   "cell_type": "code",
   "execution_count": 158,
   "metadata": {},
   "outputs": [],
   "source": [
    "# apply a mask to the Washington raster changing areas outside parcels to nodata\n",
    "with rasterio.open(\"./GNNrasters/clipped/or_stacked.tif\") as src:\n",
    "    or_random_image, or_random_transform = rasterio.mask.mask(src, or_random_features, crop=True)\n",
    "    or_random_meta = src.meta.copy()\n",
    "    or_fsc_image, or_fsc_transform = rasterio.mask.mask(src, or_fsc_features, crop=True)\n",
    "    or_fsc_meta = src.meta.copy()\n",
    "\n",
    "    or_random_meta.update({\"driver\": \"GTiff\",\n",
    "                           \"height\": or_random_image.shape[1],\n",
    "                           \"width\": or_random_image.shape[2],\n",
    "                           \"transform\": or_random_transform})\n",
    "    or_fsc_meta.update({\"driver\": \"GTiff\",\n",
    "                        \"height\": or_fsc_image.shape[1],\n",
    "                        \"width\": or_fsc_image.shape[2],\n",
    "                        \"transform\": or_fsc_transform})\n",
    "\n",
    "# write the data out to a new raster                                                                        \n",
    "with rasterio.open(\"./GNNrasters/clipped/or_random_stacked.tif\", \"w\", **or_random_meta) as dest:\n",
    "    dest.write(or_random_image)\n",
    "with rasterio.open(\"./GNNrasters/clipped/or_fsc_stacked.tif\", \"w\", **or_fsc_meta) as dest:\n",
    "    dest.write(or_fsc_image)"
   ]
  },
  {
   "cell_type": "markdown",
   "metadata": {},
   "source": [
    "## Remove nodata values from analysis/visualization workflow\n",
    "For graphing the distributions of the data, we will flatten the rasters to a 1-dimensional array including only the valid data."
   ]
  },
  {
   "cell_type": "code",
   "execution_count": 3,
   "metadata": {},
   "outputs": [],
   "source": [
    "# gather all the data from the rasters\n",
    "with rasterio.open(\"./GNNrasters/clipped/or_stacked.tif\") as src:\n",
    "    oregon = src.read(masked=True)\n",
    "with rasterio.open(\"./GNNrasters/clipped/or_random_stacked.tif\") as src:\n",
    "    or_rand = src.read(masked=True)\n",
    "with rasterio.open(\"./GNNrasters/clipped/or_fsc_stacked.tif\") as src:\n",
    "    or_fsc = src.read(masked=True)    \n",
    "\n",
    "with rasterio.open(\"./GNNrasters/clipped/wa_stacked.tif\") as src:\n",
    "    washington = src.read(masked=True)\n",
    "with rasterio.open(\"./GNNrasters/clipped/wa_random_stacked.tif\") as src:\n",
    "    wa_rand = src.read(masked=True)\n",
    "with rasterio.open(\"./GNNrasters/clipped/wa_fsc_stacked.tif\") as src:\n",
    "    wa_fsc = src.read(masked=True)"
   ]
  },
  {
   "cell_type": "code",
   "execution_count": 4,
   "metadata": {},
   "outputs": [],
   "source": [
    "# the .compressed() method on a masked array returns a flattened array with all nodata values removed\n",
    "# we'll call this method and assign the data to easier-to-use objects\n",
    "\n",
    "or_age, or_site = oregon[0,...].compressed(), oregon[1,...].compressed()\n",
    "or_ba, or_vol, or_bio  = oregon[2,...].compressed(), oregon[3,...].compressed(), oregon[4,...].compressed()\n",
    "\n",
    "or_rand_age, or_rand_site, = or_rand[0,...].compressed(), or_rand[1,...].compressed() \n",
    "or_rand_ba, or_rand_vol, or_rand_bio  = or_rand[2,...].compressed(), or_rand[3,...].compressed(), or_rand[4,...].compressed()\n",
    "\n",
    "or_fsc_age, or_fsc_site = or_fsc[0,...].compressed(), or_fsc[1,...].compressed()\n",
    "or_fsc_ba, or_fsc_vol, or_fsc_bio = or_fsc[2,...].compressed(), or_fsc[3,...].compressed(), or_fsc[4,...].compressed()\n",
    "\n",
    "wa_age, wa_site = washington[0,...].compressed(), washington[1,...].compressed()\n",
    "wa_ba, wa_vol, wa_bio = washington[2,...].compressed(), washington[3,...].compressed(), washington[4,...].compressed()\n",
    "\n",
    "wa_rand_age, wa_rand_site = wa_rand[0,...].compressed(), wa_rand[1,...].compressed()\n",
    "wa_rand_ba, wa_rand_vol, wa_rand_bio = wa_rand[2,...].compressed(), wa_rand[3,...].compressed(), wa_rand[4,...].compressed()\n",
    "\n",
    "wa_fsc_age, wa_fsc_site = wa_fsc[0,...].compressed(), wa_fsc[1,...].compressed()\n",
    "wa_fsc_ba, wa_fsc_vol, wa_fsc_bio = wa_fsc[2,...].compressed(), wa_fsc[3,...].compressed(), wa_fsc[4,...].compressed()"
   ]
  },
  {
   "cell_type": "code",
   "execution_count": 5,
   "metadata": {},
   "outputs": [
    {
     "data": {
      "text/plain": [
       "(0.0, 2101.07525)"
      ]
     },
     "execution_count": 5,
     "metadata": {},
     "output_type": "execute_result"
    }
   ],
   "source": [
    "# we can choose the bounds for our data visualization and/or bins for generating histograms\n",
    "min(or_bio.min(), wa_bio.min())/1000, max(or_bio.max(), wa_bio.max())/1000"
   ]
  },
  {
   "cell_type": "markdown",
   "metadata": {},
   "source": [
    "## Visualize the distributions of the sampled properties and the landscape"
   ]
  },
  {
   "cell_type": "code",
   "execution_count": 6,
   "metadata": {},
   "outputs": [],
   "source": [
    "# set up some bins for doing the histogram\n",
    "age_bins = np.arange(0, 850, 10)\n",
    "site_bins = np.arange(0, 135*0.3048, 3*0.3048)\n",
    "ba_bins = np.arange(0, 300, 5)\n",
    "vol_bins = np.arange(0,8750, 60)\n",
    "bio_bins = np.arange(0,2150, 30)\n",
    "bins = [age_bins, site_bins, ba_bins, vol_bins, bio_bins]"
   ]
  },
  {
   "cell_type": "code",
   "execution_count": 7,
   "metadata": {},
   "outputs": [
    {
     "data": {
      "image/png": "[encoded data removed]",
      "text/plain": [
       "<Figure size 720x576 with 30 Axes>"
      ]
     },
     "metadata": {},
     "output_type": "display_data"
    }
   ],
   "source": [
    "dims = oregon.shape[0]\n",
    "fig, axs = plt.subplots(dims,6, figsize =(10,8), sharex=False, sharey='row')\n",
    "\n",
    "or_rand_metrics = [or_rand_age, or_rand_site*0.3048, or_rand_ba, or_rand_vol, or_rand_bio/1000]\n",
    "wa_rand_metrics = [wa_rand_age, wa_rand_site*0.3048, wa_rand_ba, wa_rand_vol, wa_rand_bio/1000]\n",
    "or_fsc_metrics = [or_fsc_age, or_fsc_site*0.3048, or_fsc_ba, or_fsc_vol, or_fsc_bio/1000]\n",
    "wa_fsc_metrics = [wa_fsc_age, wa_fsc_site*0.3048, wa_fsc_ba, wa_fsc_vol, wa_fsc_bio/1000]\n",
    "or_metrics = [or_age, or_site*0.3048, or_ba, or_vol, or_bio/1000]\n",
    "wa_metrics = [wa_age, wa_site*0.3048, wa_ba, wa_vol, wa_bio/1000]\n",
    "y_lims = [(None,450), (5,45), (None,160), (-150,1750), (None,1100)]\n",
    "y_labels = ['Stand Age\\n($years$)', 'Site Index\\n($m$)', 'Basal Area\\n($m^2/ha$)', 'Volume\\n($m^3/ha$)', 'Biomass\\n($Mg/ha$)']\n",
    "titles = ['Random', 'FSC', 'Landscape','Random', 'FSC', 'Landscape']\n",
    "ext = [] # will hold bounding boxes of subplots\n",
    "\n",
    "# draw the graphs\n",
    "for i in range(dims):\n",
    "    # plot the oregon distributions\n",
    "    # histogram for oregon random properties\n",
    "    sns.distplot(or_rand_metrics[i], bins=bins[i], vertical=True, kde=False, color='orange',\n",
    "                 ax=axs[i,0], hist_kws={'normed':None, 'density':True, 'zorder': 2, 'alpha':0.6})\n",
    "    # 25th, 50th, and 75th percentiles as horizontal lines\n",
    "    percentiles = np.percentile(or_rand_metrics[i], [25,50,75])\n",
    "    axs[i,0].axhline(y=percentiles[0], color='gray', linewidth=1, linestyle=':', zorder=1)\n",
    "    axs[i,0].axhline(y=percentiles[1], color='gray', linewidth=1, zorder=1)\n",
    "    axs[i,0].axhline(y=percentiles[2], color='gray', linewidth=1, linestyle=':', zorder=1)\n",
    "    \n",
    "    # histogram for oregon fsc properties\n",
    "    sns.distplot(or_fsc_metrics[i], bins=bins[i], vertical=True, kde=False, color='orange',\n",
    "                 ax=axs[i,1], hist_kws={'normed':None, 'density':True, 'zorder': 2, 'alpha':0.6})\n",
    "    # 25th, 50th, and 75th percentiles as horizontal lines\n",
    "    percentiles = np.percentile(or_fsc_metrics[i], [25,50,75])\n",
    "    axs[i,1].axhline(y=percentiles[0], color='gray', linewidth=1, linestyle=':', zorder=1)\n",
    "    axs[i,1].axhline(y=percentiles[1], color='gray', linewidth=1, zorder=1)\n",
    "    axs[i,1].axhline(y=percentiles[2], color='gray', linewidth=1, linestyle=':', zorder=1)\n",
    "    \n",
    "    # histogram for western oregon landscape\n",
    "    sns.distplot(or_metrics[i], bins=bins[i], vertical=True, kde=False, color='orange',\n",
    "                 ax=axs[i,2], hist_kws={'normed':None, 'density':True, 'zorder': 2, 'alpha':0.6})\n",
    "    # 25th, 50th, and 75th percentiles as horizontal lines\n",
    "    percentiles = np.percentile(or_metrics[i], [25,50,75])\n",
    "    axs[i,2].axhline(y=percentiles[0], color='gray', linewidth=1, linestyle=':', zorder=1)\n",
    "    axs[i,2].axhline(y=percentiles[1], color='gray', linewidth=1, zorder=1)\n",
    "    axs[i,2].axhline(y=percentiles[2], color='gray', linewidth=1, linestyle=':', zorder=1)\n",
    "    \n",
    "    # plot the washington distributions\n",
    "    # histogram for washington random properties\n",
    "    sns.distplot(wa_rand_metrics[i], bins=bins[i], vertical=True, kde=False, color='blue',\n",
    "                 ax=axs[i,3], hist_kws={'normed':None, 'density':True, 'zorder': 2, 'alpha':0.4})\n",
    "    # 25th, 50th, and 75th percentiles as horizontal lines\n",
    "    percentiles = np.percentile(wa_rand_metrics[i], [25,50,75])\n",
    "    axs[i,3].axhline(y=percentiles[0], color='gray', linewidth=1, linestyle=':', zorder=1)\n",
    "    axs[i,3].axhline(y=percentiles[1], color='gray', linewidth=1, zorder=1)\n",
    "    axs[i,3].axhline(y=percentiles[2], color='gray', linewidth=1, linestyle=':', zorder=1)\n",
    "    \n",
    "    # histogram for washington fsc properties\n",
    "    sns.distplot(wa_fsc_metrics[i], bins=bins[i], vertical=True,  kde=False, color='blue',\n",
    "                 ax=axs[i,4], hist_kws={'normed':None, 'density':True, 'zorder': 2, 'alpha':0.4})\n",
    "    # 25th, 50th, and 75th percentiles as horizontal lines\n",
    "    percentiles = np.percentile(wa_fsc_metrics[i], [25,50,75])\n",
    "    axs[i,4].axhline(y=percentiles[0], color='gray', linewidth=1, linestyle=':', zorder=1)\n",
    "    axs[i,4].axhline(y=percentiles[1], color='gray', linewidth=1, zorder=1)\n",
    "    axs[i,4].axhline(y=percentiles[2], color='gray', linewidth=1, linestyle=':', zorder=1)\n",
    "    \n",
    "    # histogram for western washington landscape\n",
    "    sns.distplot(wa_metrics[i], bins=bins[i], vertical=True, kde=False, color='blue',\n",
    "                 ax=axs[i,5], hist_kws={'normed':None, 'density':True, 'zorder': 2, 'alpha':0.4})\n",
    "    # 25th, 50th, and 75th percentiles as horizontal lines\n",
    "    percentiles = np.percentile(wa_metrics[i], [25,50,75])\n",
    "    axs[i,5].axhline(y=percentiles[0], color='gray', linewidth=1, linestyle=':', zorder=1)\n",
    "    axs[i,5].axhline(y=percentiles[1], color='gray', linewidth=1, zorder=1)\n",
    "    axs[i,5].axhline(y=percentiles[2], color='gray', linewidth=1, linestyle=':', zorder=1)\n",
    "    \n",
    "# formatting the graph\n",
    "    axs[i,0].set_ylim(y_lims[i])\n",
    "    axs[i,0].yaxis.set_major_formatter(ticker.StrMethodFormatter('{x:,.0f}'))\n",
    "    axs[i,0].set_ylabel(y_labels[i], weight='bold', fontsize=12)\n",
    "\n",
    "for row in range(5):\n",
    "    # for all columns except the first one\n",
    "    for col in range(1,6):\n",
    "        # remove y-ticks\n",
    "        axs[row][col].tick_params(axis='y', left=False)\n",
    "\n",
    "# add extra gridlines/y-ticks to some graphs\n",
    "axs[0,0].set_yticks([0,100,200,300,400])\n",
    "axs[4,0].set_yticks([0,250,500,750,1000])\n",
    "\n",
    "# remove x-ticks for all graphs\n",
    "plt.setp(axs, xticks=[])\n",
    "# add titles to the top row of plots\n",
    "for j in range(axs.shape[1]):\n",
    "    axs[0,j].set_title(titles[j])\n",
    "\n",
    "plt.tight_layout()\n",
    "\n",
    "# add titles to the top row of plots and get their bounding boxes\n",
    "ext = []\n",
    "for j in range(axs.shape[1]):\n",
    "    ext.append([axs[0,j].get_window_extent().x0, axs[0,j].get_window_extent().width])\n",
    "    \n",
    "# from the axes bounding boxes calculate the optimal position of a column spanning title\n",
    "inv = fig.transFigure.inverted()\n",
    "width_left = ext[0][0]+(ext[2][0] + ext[2][1] - ext[0][0])/2.\n",
    "left_center = inv.transform( (width_left, 1) )\n",
    "width_right = ext[3][0]+(ext[5][0]+ext[5][1]-ext[3][0])/2.\n",
    "right_center = inv.transform( (width_right, 1) )\n",
    "\n",
    "# adjust the subplots, i.e. leave more space at the top to accomodate the State names\n",
    "fig.subplots_adjust(top=0.89)\n",
    "plt.figtext(left_center[0],0.95,\"Oregon\", va=\"center\", ha=\"center\", size=15, weight='bold')\n",
    "plt.figtext(right_center[0],0.95,\"Washington\", va=\"center\", ha=\"center\", size=15, weight='bold')\n",
    "fig.align_labels()\n",
    "plt.savefig('../images/parcels_v_landscape.png');"
   ]
  }
 ],
 "metadata": {
  "kernelspec": {
   "display_name": "Python [conda env:fvs]",
   "language": "python",
   "name": "conda-env-fvs-py"
  },
  "language_info": {
   "codemirror_mode": {
    "name": "ipython",
    "version": 3
   },
   "file_extension": ".py",
   "mimetype": "text/x-python",
   "name": "python",
   "nbconvert_exporter": "python",
   "pygments_lexer": "ipython3",
   "version": "3.6.5"
  }
 },
 "nbformat": 4,
 "nbformat_minor": 2
}
