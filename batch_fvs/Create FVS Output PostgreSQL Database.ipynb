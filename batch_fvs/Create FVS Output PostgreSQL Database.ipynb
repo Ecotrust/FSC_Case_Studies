{
 "cells": [
  {
   "cell_type": "markdown",
   "metadata": {
    "deletable": true,
    "editable": true
   },
   "source": [
    "# Create and Populate PostgreSQL Output Database for FVS Simulations\n",
    "We're using a PostgreSQL database to collect outputs from the Forest Vegetation Simulator (FVS) growth-and-yield model to allow for running multiple FVS simulations in parallel. PostgreSQL allows multiple simultaneous connections to the database, so FVS won't have to wait for other running instances of FVS to finish reading/writing. "
   ]
  },
  {
   "cell_type": "code",
   "execution_count": null,
   "metadata": {
    "collapsed": true,
    "deletable": true,
    "editable": true
   },
   "outputs": [],
   "source": [
    "import psycopg2 # for interacting with PostgreSQL database\n",
    "from FVSoutput_SQL_createDBtables import * # SQL query strings for creating FVS output tables"
   ]
  },
  {
   "cell_type": "markdown",
   "metadata": {
    "deletable": true,
    "editable": true
   },
   "source": [
    "## Getting Started\n",
    "\n",
    "First, you'll need to create a blank output database you want FVS to direct outputs to. Don't forget to add the output database information to your list of ODBC named data sources so that FVS knows how to find and access it. The rest of this notebook will still work and your output tables will get created, but FVS won't write to your output database if it doesn't find it as a named data source (with 32-bit ODBC driver, suggest using PostgreSQL UNICODE)."
   ]
  },
  {
   "cell_type": "markdown",
   "metadata": {
    "deletable": true,
    "editable": true
   },
   "source": [
    "## Tables you can create in the output database\n",
    "\n",
    "The following tables are available to use. All should be pre-prended with \"fvs_\": \n",
    "\n",
    "**Base FVS (incl. DB Extension):**  \n",
    "atrtrlist, cases, compute, cutlist, strclass, summary, treelist\n",
    "\n",
    "**Fire & Fuels Extension (FFE):**  \n",
    "*General:* canprofile, snagdet, down_wood_cov, down_wood_vol, mortality, snagsum  \n",
    "*Fire/Fuels:* burnreport, consumption, potfire, fuels  \n",
    "*Carbon:* carbon, hrv_carbon, \n",
    "\n",
    "\n",
    "\n",
    "**ECON Extension:**  \n",
    "econharvestvalue, econsummary\n",
    "\n",
    "**Mountain Pine Beetle (MPB) Impact Model:**  \n",
    "bm_bkp, bm_main, bm_tree, bm_vol\n",
    "\n",
    "**Climate-FVS:**  \n",
    "climate  \n",
    "\n",
    "**Dwarf Mistletoe:**  \n",
    "dm_spp_sum, dm_stnd_sum  \n",
    "\n",
    "**Western Root Disease:**  \n",
    "rd_sum, rd_det, rd_beetle"
   ]
  },
  {
   "cell_type": "code",
   "execution_count": null,
   "metadata": {
    "collapsed": true,
    "deletable": true,
    "editable": true
   },
   "outputs": [],
   "source": [
    "# We'll use the following helper function to write tables into the FVS Output database.\n",
    "def create_tables(conn_str, table_SQLs, verbose=False):\n",
    "    '''\n",
    "    Creates tables in a PostgreSQL database to hold FVS Outputs.\n",
    "    ===========\n",
    "    Arguments:\n",
    "    conn_str = A string for the database connection. \n",
    "    table_SQLs = A list of valid FVS table names (imported from FVSoutput_SQL_createDBtables.py).\n",
    "    verbose = Will print out the SQL query strings used if set to True (defaults to False).\n",
    "    '''\n",
    "    with psycopg2.connect(conn_string) as conn:\n",
    "        with conn.cursor() as cur:\n",
    "            for SQL in table_SQLs:\n",
    "                if verbose:\n",
    "                    print(SQL)\n",
    "                cur.execute(SQL)\n",
    "                print('Created', SQL.split(' ')[2], end='... ')\n",
    "    conn.close()\n",
    "    print('Done.')"
   ]
  },
  {
   "cell_type": "markdown",
   "metadata": {},
   "source": [
    "### Specify the tables you want to be created in the output database"
   ]
  },
  {
   "cell_type": "code",
   "execution_count": null,
   "metadata": {
    "collapsed": true,
    "deletable": true,
    "editable": true
   },
   "outputs": [],
   "source": [
    "my_tables = [fvs_cases, fvs_summary, fvs_carbon, fvs_hrv_carbon, fvs_econharvestvalue, fvs_econsummary]"
   ]
  },
  {
   "cell_type": "markdown",
   "metadata": {
    "deletable": true,
    "editable": true
   },
   "source": [
    "### Specify how to connect to your output database\n",
    "Specify the dbname, username/owner, and host for your database. If you don't have password authentication handled via other means, you'd also need to provide it here."
   ]
  },
  {
   "cell_type": "code",
   "execution_count": null,
   "metadata": {
    "collapsed": false,
    "deletable": true,
    "editable": true
   },
   "outputs": [],
   "source": [
    "mydb = \"FVSOut\"\n",
    "myusername = 'postgres'\n",
    "myhost = 'localhost'\n",
    "conn_string = \"dbname={dbname} user={user} host={host}\".format(dbname=mydb, user=myusername, host=myhost)"
   ]
  },
  {
   "cell_type": "markdown",
   "metadata": {},
   "source": [
    "### Execute the `create_tables` function, then go check out your database!"
   ]
  },
  {
   "cell_type": "code",
   "execution_count": null,
   "metadata": {
    "collapsed": false
   },
   "outputs": [],
   "source": [
    "create_tables(conn_string, my_tables)"
   ]
  }
 ],
 "metadata": {
  "kernelspec": {
   "display_name": "Python [conda env:Py3.5]",
   "language": "python",
   "name": "conda-env-Py3.5-py"
  },
  "language_info": {
   "codemirror_mode": {
    "name": "ipython",
    "version": 3
   },
   "file_extension": ".py",
   "mimetype": "text/x-python",
   "name": "python",
   "nbconvert_exporter": "python",
   "pygments_lexer": "ipython3",
   "version": "3.5.3"
  }
 },
 "nbformat": 4,
 "nbformat_minor": 2
}
