{
 "cells": [
  {
   "cell_type": "markdown",
   "metadata": {
    "deletable": true,
    "editable": true
   },
   "source": [
    "<h2>Construct keyfiles from project directory containing a Base FVS Rx template.</h2>"
   ]
  },
  {
   "cell_type": "code",
   "execution_count": 1,
   "metadata": {
    "collapsed": true,
    "deletable": true,
    "editable": true
   },
   "outputs": [],
   "source": [
    "import os\n",
    "import glob\n",
    "from jinja2 import Template\n",
    "import pandas as pd\n",
    "import random"
   ]
  },
  {
   "cell_type": "markdown",
   "metadata": {
    "deletable": true,
    "editable": true
   },
   "source": [
    "Create a jinja2 template from a Base_Rx.key file."
   ]
  },
  {
   "cell_type": "code",
   "execution_count": 2,
   "metadata": {
    "collapsed": false,
    "deletable": true,
    "editable": true
   },
   "outputs": [
    {
     "name": "stdout",
     "output_type": "stream",
     "text": [
      "Found Base_Rx.key and created jinja2 template.\n"
     ]
    }
   ],
   "source": [
    "# read in the base_rx keyfile template using jinja2 templating\n",
    "with open(os.path.join('Rx_Template','Base_Rx.key'), 'r') as base_keyfile:\n",
    "    template = Template(base_keyfile.read())\n",
    "    print('Found Base_Rx.key and created jinja2 template.')"
   ]
  },
  {
   "cell_type": "markdown",
   "metadata": {
    "deletable": true,
    "editable": true
   },
   "source": [
    "A dictionary for holding the items to insert into an FVS keyfile template using jinja2 templating."
   ]
  },
  {
   "cell_type": "code",
   "execution_count": 3,
   "metadata": {
    "collapsed": true,
    "deletable": true,
    "editable": true
   },
   "outputs": [],
   "source": [
    "inserts = {}"
   ]
  },
  {
   "cell_type": "markdown",
   "metadata": {
    "deletable": true,
    "editable": true
   },
   "source": [
    "Specify the FVS input and output databases for insertion in the jinja2 template"
   ]
  },
  {
   "cell_type": "code",
   "execution_count": 4,
   "metadata": {
    "collapsed": true,
    "deletable": true,
    "editable": true
   },
   "outputs": [],
   "source": [
    "inserts['FVSIn'] = 'FVSIn'\n",
    "inserts['FVSOut'] = 'FVSOut'"
   ]
  },
  {
   "cell_type": "markdown",
   "metadata": {
    "deletable": true,
    "editable": true
   },
   "source": [
    "Look in the Rx_Template directory, add all the kcp files to the `inserts` dictionary."
   ]
  },
  {
   "cell_type": "code",
   "execution_count": 6,
   "metadata": {
    "collapsed": false,
    "deletable": true,
    "editable": true
   },
   "outputs": [
    {
     "name": "stdout",
     "output_type": "stream",
     "text": [
      "Found the following kcp files in the Rx_Template directory:\n",
      "Mgmt_Costs.kcp... added to template.\n"
     ]
    }
   ],
   "source": [
    "template_kcps = glob.glob(os.path.join('Rx_Template','*.kcp'))\n",
    "if len(template_kcps) > 0:\n",
    "    print('Found the following kcp files in the Rx_Template directory:')\n",
    "    for kcp in template_kcps:\n",
    "        fname = os.path.split(kcp)[-1]\n",
    "        print(fname, end='...')\n",
    "        # read the kcp file\n",
    "        key = fname.split('.')[0] # key for item in inserts dictionary\n",
    "        with open(kcp, 'r') as item:\n",
    "            value = item.read()\n",
    "        # add the contents of the kcp file to the inserts dictionary\n",
    "        inserts[key] = value\n",
    "        print(' added to template.')\n",
    "else: \n",
    "    raise FileNotFoundError('No kcp files found in the Rx_Template directory.')"
   ]
  },
  {
   "cell_type": "markdown",
   "metadata": {
    "deletable": true,
    "editable": true
   },
   "source": [
    "Gather variant-specific KCP files for SDImax and Log_Values"
   ]
  },
  {
   "cell_type": "code",
   "execution_count": 7,
   "metadata": {
    "collapsed": false,
    "deletable": true,
    "editable": true
   },
   "outputs": [
    {
     "name": "stdout",
     "output_type": "stream",
     "text": [
      "Found the following kcp files in the variant_specific_kcps directory:\n",
      "PN logvalue... added to template.\n",
      "WC logvalue... added to template.\n",
      "PN SDImax... added to template.\n",
      "WC SDImax... added to template.\n"
     ]
    }
   ],
   "source": [
    "SDImax_dict = {} # variant: SDImax keywords\n",
    "logvalue_dict = {} # variant: log value specs\n",
    "\n",
    "variant_kcps = glob.glob(os.path.join('Rx_Template','variant_specific_kcps','*.kcp'))\n",
    "if len(variant_kcps) > 0:\n",
    "    print('Found the following kcp files in the variant_specific_kcps directory:')\n",
    "    for kcp in variant_kcps:\n",
    "        fname = os.path.split(kcp)[-1]\n",
    "        variant = fname.split('.')[0][-2:]\n",
    "        kcp_type = fname.split('.')[0][:-3]\n",
    "        print(variant, kcp_type, end='...')\n",
    "        # read the kcp file\n",
    "        with open(kcp, 'r') as item:\n",
    "            key = variant\n",
    "            value = item.read()\n",
    "        if kcp_type == 'SDImax':\n",
    "            SDImax_dict[key] = value\n",
    "        elif kcp_type == 'logvalue':\n",
    "            logvalue_dict[key] = value\n",
    "        print(' added to template.')\n",
    "else: \n",
    "    raise FileNotFoundError('No kcp files found in the variant_specific_kcps directory.')"
   ]
  },
  {
   "cell_type": "markdown",
   "metadata": {
    "deletable": true,
    "editable": true
   },
   "source": [
    "Read the contents of each rx*.kcp file in the Rxs directory and store them as values in an `rxs_dict` dictionary."
   ]
  },
  {
   "cell_type": "code",
   "execution_count": 8,
   "metadata": {
    "collapsed": false,
    "deletable": true,
    "editable": true
   },
   "outputs": [
    {
     "name": "stdout",
     "output_type": "stream",
     "text": [
      "Found the following kcp files in the Rxs subdirectory:\n",
      "rx1.kcp... added to template.\n",
      "rx2.kcp... added to template.\n",
      "rx2inner.kcp... added to template.\n",
      "rx2outer.kcp... added to template.\n",
      "rx3.kcp... added to template.\n",
      "rx4.kcp... added to template.\n",
      "rx5.kcp... added to template.\n",
      "rx5inner.kcp... added to template.\n",
      "rx5outer.kcp... added to template.\n"
     ]
    }
   ],
   "source": [
    "rxs_dict = {}\n",
    "# a dictionary storing the silvicultural keywords for each rx\n",
    "rx_kcps = glob.glob(os.path.join('Rx_Template', 'Rxs', 'rx*.kcp'))\n",
    "if len(rx_kcps) > 0:\n",
    "    print('Found the following kcp files in the Rxs subdirectory:')\n",
    "    for kcp in rx_kcps:\n",
    "        fname = os.path.split(kcp)[-1]\n",
    "        print(fname, end='...')\n",
    "        # read the kcp file\n",
    "        key = fname.split('/')[-1].split('.')[0] # key for item in inserts dictionary\n",
    "        with open(kcp, 'r') as item:\n",
    "            value = item.read()\n",
    "        # add the contents of the kcp file to the inserts dictionary\n",
    "        rxs_dict[key] = value\n",
    "        print(' added to template.')\n",
    "else: \n",
    "    raise FileNotFoundError('No kcp files found in the Rx_Template directory.')"
   ]
  },
  {
   "cell_type": "markdown",
   "metadata": {
    "deletable": true,
    "editable": true
   },
   "source": [
    "A function to use for creating keyfiles."
   ]
  },
  {
   "cell_type": "code",
   "execution_count": 9,
   "metadata": {
    "collapsed": true,
    "deletable": true,
    "editable": true
   },
   "outputs": [],
   "source": [
    "def create_keyfile(standID, variant, rx, offset):\n",
    "    '''\n",
    "    Creates a single FVS keyfile based on the jinja2 template.\n",
    "    '''\n",
    "    inserts['ID'] = standID\n",
    "    inserts['SDImax'] = SDImax_dict[variant]\n",
    "    inserts['Log_Value'] = logvalue_dict[variant]\n",
    "    inserts['rx'] = rxs_dict[rx]\n",
    "    inserts['offset'] = offset\n",
    "    # FVS slows down outputting to large databases, so we'll divide output among 10 databases\n",
    "    #inserts['db_num'] = random.randint(1,10) # add a random number, 1-10 for a output database suffix\n",
    "    \n",
    "    fname = 'fvs'+variant+'_stand'+str(standID)+'_'+rx+'_off'+str(offset)+'.key'\n",
    "    path = os.path.abspath('keyfiles_to_run')\n",
    "    if not os.path.exists(path):\n",
    "        os.makedirs(path, exist_ok=True)\n",
    "    with open(os.path.join('keyfiles_to_run',fname),'w') as keyfile:\n",
    "        keyfile.write(template.render(**inserts))"
   ]
  },
  {
   "cell_type": "code",
   "execution_count": 10,
   "metadata": {
    "collapsed": false,
    "deletable": true,
    "editable": true
   },
   "outputs": [],
   "source": [
    "def create_keyfiles(stands, variants, rxs, offsets=[0], verbose=False):\n",
    "    '''\n",
    "    Creates FVS keyfiles for all stands using Base_Rx.key as a template.\n",
    "    Arguments:\n",
    "    stands: List of standIDs that keyfiles will be created for. Required.\n",
    "    variants: List of 2-letter codes of FVS variant for each stand. Required.\n",
    "    rxs: a list of rx names to build keyfiles for. Required.\n",
    "    offsets: optional, a list of offsets, used in FVS to delay implementation of a \n",
    "        management regime. e.g., [0, 5, 10]. Defaults to a list with no offsets (i.e., [0]).\n",
    "    '''\n",
    "    stands_processed = 0\n",
    "    keyfiles_written = 0\n",
    "    num_stands = len(stands)\n",
    "    num_keys = num_stands * len(rxs) * len(offsets)\n",
    "    print('Creating {:,} keyfiles for {:,} stands.'.format(num_keys, num_stands))\n",
    "\n",
    "    if not verbose:\n",
    "        print('Stands processed', end=\": \")\n",
    "    for i in range(len(stands)):\n",
    "        if verbose:\n",
    "            print('Creating keyfiles for stand', stands[i], end='... ')\n",
    "        stand_keyfiles = 0\n",
    "        for rx in rxs:\n",
    "            for offset in offsets:\n",
    "                # run the create_keyfile function\n",
    "                create_keyfile(standID=stands.iloc[i], variant=variants.iloc[i], rx=rx, offset=offset) \n",
    "                keyfiles_written += 1\n",
    "                stand_keyfiles += 1\n",
    "        stands_processed += 1\n",
    "        if verbose:\n",
    "            print(stand_keyfiles, 'keyfiles written.')\n",
    "        else:\n",
    "            if stands_processed % 100 == 0:\n",
    "                print('{:,}'.format(stands_processed), end='... ')\n",
    "    print('Done. Created', keyfiles_written, 'keyfiles for', stands_processed, 'stands.')"
   ]
  },
  {
   "cell_type": "markdown",
   "metadata": {
    "deletable": true,
    "editable": true
   },
   "source": [
    "Identify stands to run."
   ]
  },
  {
   "cell_type": "code",
   "execution_count": 17,
   "metadata": {
    "collapsed": true,
    "deletable": true,
    "editable": true
   },
   "outputs": [],
   "source": [
    "# option to import from CSV file with standID and variant\n",
    "stands = pd.read_csv(os.path.join('Data','Outer.csv'))"
   ]
  },
  {
   "cell_type": "code",
   "execution_count": 20,
   "metadata": {
    "collapsed": false
   },
   "outputs": [
    {
     "data": {
      "text/html": [
       "<div>\n",
       "<style>\n",
       "    .dataframe thead tr:only-child th {\n",
       "        text-align: right;\n",
       "    }\n",
       "\n",
       "    .dataframe thead th {\n",
       "        text-align: left;\n",
       "    }\n",
       "\n",
       "    .dataframe tbody tr th {\n",
       "        vertical-align: top;\n",
       "    }\n",
       "</style>\n",
       "<table border=\"1\" class=\"dataframe\">\n",
       "  <thead>\n",
       "    <tr style=\"text-align: right;\">\n",
       "      <th></th>\n",
       "      <th>Stand_ID</th>\n",
       "      <th>Variant</th>\n",
       "    </tr>\n",
       "  </thead>\n",
       "  <tbody>\n",
       "    <tr>\n",
       "      <th>0</th>\n",
       "      <td>9395</td>\n",
       "      <td>PN</td>\n",
       "    </tr>\n",
       "    <tr>\n",
       "      <th>1</th>\n",
       "      <td>9200</td>\n",
       "      <td>PN</td>\n",
       "    </tr>\n",
       "    <tr>\n",
       "      <th>2</th>\n",
       "      <td>9051</td>\n",
       "      <td>PN</td>\n",
       "    </tr>\n",
       "    <tr>\n",
       "      <th>3</th>\n",
       "      <td>9060</td>\n",
       "      <td>PN</td>\n",
       "    </tr>\n",
       "    <tr>\n",
       "      <th>4</th>\n",
       "      <td>9409</td>\n",
       "      <td>PN</td>\n",
       "    </tr>\n",
       "  </tbody>\n",
       "</table>\n",
       "</div>"
      ],
      "text/plain": [
       "   Stand_ID Variant\n",
       "0      9395      PN\n",
       "1      9200      PN\n",
       "2      9051      PN\n",
       "3      9060      PN\n",
       "4      9409      PN"
      ]
     },
     "execution_count": 20,
     "metadata": {},
     "output_type": "execute_result"
    }
   ],
   "source": [
    "stands.head()"
   ]
  },
  {
   "cell_type": "code",
   "execution_count": 11,
   "metadata": {
    "collapsed": true,
    "deletable": true,
    "editable": true
   },
   "outputs": [],
   "source": [
    "import psycopg2"
   ]
  },
  {
   "cell_type": "code",
   "execution_count": 12,
   "metadata": {
    "collapsed": false,
    "deletable": true,
    "editable": true
   },
   "outputs": [],
   "source": [
    "# conn = psycopg2.connect(\"dbname='FVSIn' user='postgres' host='localhost'\") # password in pgpass file\n",
    "# SQL = '''\n",
    "# SELECT stand_id, variant\n",
    "# FROM stand_init;\n",
    "# '''\n",
    "# # read the query into a pandas dataframe\n",
    "# stands = pd.read_sql(SQL, conn)\n",
    "\n",
    "# # close the database connection\n",
    "# conn.close()"
   ]
  },
  {
   "cell_type": "code",
   "execution_count": 13,
   "metadata": {
    "collapsed": false,
    "deletable": true,
    "editable": true
   },
   "outputs": [],
   "source": [
    "# if we want to run a random sample of stands instead of the full batch (e.g., for testing)\n",
    "# seed = 4321\n",
    "# stands = stands.sample(n=100, axis=0, random_state=seed)\n",
    "# print(stands)"
   ]
  },
  {
   "cell_type": "markdown",
   "metadata": {
    "deletable": true,
    "editable": true
   },
   "source": [
    "Create the keyfiles!"
   ]
  },
  {
   "cell_type": "code",
   "execution_count": 21,
   "metadata": {
    "collapsed": false,
    "deletable": true,
    "editable": true
   },
   "outputs": [
    {
     "name": "stdout",
     "output_type": "stream",
     "text": [
      "Creating 1,044 keyfiles for 522 stands.\n",
      "Stands processed: 100... 200... 300... 400... 500... Done. Created 1044 keyfiles for 522 stands.\n",
      "Wall time: 10 s\n"
     ]
    }
   ],
   "source": [
    "%%time\n",
    "rxs_to_run = ['rx2outer', 'rx5outer']\n",
    "create_keyfiles(stands=stands.Stand_ID, variants=stands.Variant, rxs=rxs_to_run, verbose=False)"
   ]
  },
  {
   "cell_type": "code",
   "execution_count": null,
   "metadata": {
    "collapsed": true
   },
   "outputs": [],
   "source": [
    "#rxs_to_run = ['rx2', 'rx3', 'rx4_noCT', 'rx4_SDI35', 'rx4_SDI40', 'rx4_SDI45', 'rx5_noCT', 'rx5_SDI35', 'rx5_SDI40', 'rx5_SDI45', 'rx4_OR', 'rx5_OR']\n",
    "# rxs_to_run = ['rx1', 'rx2', 'rx3', 'rx4', 'rx5']"
   ]
  }
 ],
 "metadata": {
  "kernelspec": {
   "display_name": "Python [conda env:Py3.5]",
   "language": "python",
   "name": "conda-env-Py3.5-py"
  },
  "language_info": {
   "codemirror_mode": {
    "name": "ipython",
    "version": 3
   },
   "file_extension": ".py",
   "mimetype": "text/x-python",
   "name": "python",
   "nbconvert_exporter": "python",
   "pygments_lexer": "ipython3",
   "version": "3.5.3"
  }
 },
 "nbformat": 4,
 "nbformat_minor": 2
}
