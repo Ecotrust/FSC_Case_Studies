{
 "cells": [
  {
   "cell_type": "markdown",
   "metadata": {
    "deletable": true,
    "editable": true
   },
   "source": [
    "<h1>Create and Populate PostgreSQL Input Database for FVS Simulations</h1>"
   ]
  },
  {
   "cell_type": "code",
   "execution_count": 8,
   "metadata": {
    "collapsed": true,
    "deletable": true,
    "editable": true
   },
   "outputs": [],
   "source": [
    "import psycopg2\n",
    "from psycopg2.extensions import ISOLATION_LEVEL_AUTOCOMMIT"
   ]
  },
  {
   "cell_type": "markdown",
   "metadata": {
    "deletable": true,
    "editable": true
   },
   "source": [
    "<h2>Create FVSIn</h2>"
   ]
  },
  {
   "cell_type": "code",
   "execution_count": 39,
   "metadata": {
    "collapsed": false,
    "deletable": true,
    "editable": true
   },
   "outputs": [],
   "source": [
    "conn = psycopg2.connect(\"dbname='postgres' user='postgres' host='localhost'\") # password stored in pgpass\n",
    "conn.set_isolation_level(ISOLATION_LEVEL_AUTOCOMMIT)\n",
    "cur = conn.cursor()"
   ]
  },
  {
   "cell_type": "code",
   "execution_count": 40,
   "metadata": {
    "collapsed": false,
    "deletable": true,
    "editable": true
   },
   "outputs": [],
   "source": [
    "cur.execute('CREATE DATABASE \"FVSIn\"')\n",
    "conn.close()"
   ]
  },
  {
   "cell_type": "markdown",
   "metadata": {
    "deletable": true,
    "editable": true
   },
   "source": [
    "<h2>Create Tables in FVSIn</h2>"
   ]
  },
  {
   "cell_type": "code",
   "execution_count": 41,
   "metadata": {
    "collapsed": false,
    "deletable": true,
    "editable": true
   },
   "outputs": [],
   "source": [
    "conn = psycopg2.connect(\"dbname='FVSIn' user='postgres' host='localhost'\") # password stored in pgpass"
   ]
  },
  {
   "cell_type": "code",
   "execution_count": 42,
   "metadata": {
    "collapsed": false,
    "deletable": true,
    "editable": true
   },
   "outputs": [],
   "source": [
    "with conn:\n",
    "    with conn.cursor() as cur:\n",
    "        SQL = '''\n",
    "        CREATE TABLE stand_init (\n",
    "        stand_cn varchar(40),\n",
    "        stand_id varchar(26) not null PRIMARY KEY,\n",
    "        standplot_cn varchar(40),\n",
    "        variant varchar(11) not null,\n",
    "        inv_year int not null,\n",
    "        groups text,\n",
    "        addfiles text,\n",
    "        fvskeywords text,\n",
    "        latitude double precision,\n",
    "        longitude double precision,\n",
    "        region int,\n",
    "        forest int,\n",
    "        district int,\n",
    "        compartment int,\n",
    "        location int,\n",
    "        ecoregion varchar(6),\n",
    "        pv_code varchar(10),\n",
    "        pv_ref_code int,\n",
    "        age int,\n",
    "        aspect double precision,\n",
    "        slope double precision,\n",
    "        elevation int,\n",
    "        elevft double precision,\n",
    "        basal_area_factor double precision not null,\n",
    "        inv_plot_size double precision not null,\n",
    "        brk_dbh double precision not null,\n",
    "        num_plots int,\n",
    "        nonstk_plots int,\n",
    "        sam_w double precision,\n",
    "        stk_pcnt double precision,\n",
    "        dg_trans int,\n",
    "        dg_measure int,\n",
    "        htg_trans int,\n",
    "        htg_measure int,\n",
    "        mort_measure int,\n",
    "        max_ba double precision,\n",
    "        max_sdi double precision,\n",
    "        site_species varchar(8),\n",
    "        site_index double precision,\n",
    "        model_type int,\n",
    "        physio_region int,\n",
    "        forest_type int,\n",
    "        state int,\n",
    "        county int,\n",
    "        fuel_model int,\n",
    "        fuel_0_25 double precision,\n",
    "        fuel_25_1 double precision,\n",
    "        fuel_0_1 double precision,\n",
    "        fuel_1_3 double precision,\n",
    "        fuel_3_6 double precision,\n",
    "        fuel_6_12 double precision,\n",
    "        fuel_gt_12 double precision,\n",
    "        fuel_litter double precision,\n",
    "        fuel_duff double precision,\n",
    "        photo_ref int,\n",
    "        photo_code varchar(13),\n",
    "        gis_id int\n",
    "        );\n",
    "        '''\n",
    "        cur.execute(SQL)"
   ]
  },
  {
   "cell_type": "code",
   "execution_count": 44,
   "metadata": {
    "collapsed": false,
    "deletable": true,
    "editable": true
   },
   "outputs": [],
   "source": [
    "with conn:\n",
    "    with conn.cursor() as cur:\n",
    "        SQL = '''\n",
    "        stand_cn varchar(40) REFERENCES stand_init (stand_cn),\n",
    "        stand_id varchar(26) not null REFERENCES stand_init,\n",
    "        standplot_cn varchar(40) REFERENCES stand_init (standplot_cn),\n",
    "        standplot_id varchar(26) REFERENCES stand_init (standplot_id),\n",
    "        plot_id varchar(26) not null,\n",
    "        tree_id int not null,\n",
    "        tree_count double precision,\n",
    "        history int,\n",
    "        species varchar(8) not null,\n",
    "        dbh double precision not null,\n",
    "        dg double precision,\n",
    "        ht double precision,\n",
    "        htg double precision,\n",
    "        httopk double precision,\n",
    "        crratio double precision,\n",
    "        damage1 int,\n",
    "        severity1 double precision,\n",
    "        damage2 int,\n",
    "        severity2 double precision,\n",
    "        damage3 int,\n",
    "        severity3 double precision,\n",
    "        treevalue int,\n",
    "        prescription double precision,\n",
    "        age int\n",
    "        );\n",
    "        '''\n",
    "        cur.execute(SQL)"
   ]
  },
  {
   "cell_type": "code",
   "execution_count": 46,
   "metadata": {
    "collapsed": true,
    "deletable": true,
    "editable": true
   },
   "outputs": [],
   "source": [
    "with conn:\n",
    "    with conn.cursor() as cur:\n",
    "        SQL = '''\n",
    "        CREATE TABLE rotation_age (\n",
    "        stand_id varchar(26) REFERENCES stand_init,\n",
    "        stand_cn varchar(26) REFERENCES stand_init (stand_cn),\n",
    "        fpa_npv int,\n",
    "        fsc_npv int,\n",
    "        fpa_msy int,\n",
    "        fsc_msy int\n",
    "        );\n",
    "        '''\n",
    "        cur.execute(SQL)"
   ]
  },
  {
   "cell_type": "markdown",
   "metadata": {
    "deletable": true,
    "editable": true
   },
   "source": [
    "<h2>Populate tables in FVSIn from CSV files</h2>"
   ]
  },
  {
   "cell_type": "code",
   "execution_count": 43,
   "metadata": {
    "collapsed": true,
    "deletable": true,
    "editable": true
   },
   "outputs": [],
   "source": [
    "with conn:\n",
    "    with conn.cursor() as cur:\n",
    "        SQL = '''\n",
    "        COPY stand_init \n",
    "        FROM 'path\\to\\FVS_StandInit.csv' \n",
    "        DELIMITER ',' CSV HEADER;\n",
    "        '''\n",
    "        cur.execute(SQL)"
   ]
  },
  {
   "cell_type": "code",
   "execution_count": 45,
   "metadata": {
    "collapsed": false,
    "deletable": true,
    "editable": true
   },
   "outputs": [],
   "source": [
    "with conn:\n",
    "    with conn.cursor() as cur:\n",
    "        SQL = '''\n",
    "        COPY tree_init \n",
    "        FROM 'path\\to\\FVS_TreeInit.csv' \n",
    "        DELIMITER ',' CSV HEADER;\n",
    "        '''\n",
    "        cur.execute(SQL)"
   ]
  },
  {
   "cell_type": "code",
   "execution_count": 48,
   "metadata": {
    "collapsed": false,
    "deletable": true,
    "editable": true
   },
   "outputs": [],
   "source": [
    "with conn:\n",
    "    with conn.cursor() as cur:\n",
    "        SQL = '''\n",
    "        COPY rotation_age \n",
    "        FROM 'path\\to\\RotoAge.csv' \n",
    "        DELIMITER ',' CSV HEADER;\n",
    "        '''\n",
    "        cur.execute(SQL)"
   ]
  },
  {
   "cell_type": "markdown",
   "metadata": {
    "deletable": true,
    "editable": true
   },
   "source": [
    "<h2>Close the connection to FVSIn</h2>"
   ]
  },
  {
   "cell_type": "code",
   "execution_count": 50,
   "metadata": {
    "collapsed": true,
    "deletable": true,
    "editable": true
   },
   "outputs": [],
   "source": [
    "conn.close()"
   ]
  }
 ],
 "metadata": {
  "kernelspec": {
   "display_name": "Python [conda env:Py3.5]",
   "language": "python",
   "name": "conda-env-Py3.5-py"
  },
  "language_info": {
   "codemirror_mode": {
    "name": "ipython",
    "version": 3
   },
   "file_extension": ".py",
   "mimetype": "text/x-python",
   "name": "python",
   "nbconvert_exporter": "python",
   "pygments_lexer": "ipython3",
   "version": "3.5.3"
  }
 },
 "nbformat": 4,
 "nbformat_minor": 2
}
