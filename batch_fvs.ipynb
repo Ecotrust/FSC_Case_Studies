{
 "cells": [
  {
   "cell_type": "markdown",
   "metadata": {
    "collapsed": true
   },
   "source": [
    "## Asynchronous parallel processing of FVS keyfiles"
   ]
  },
  {
   "cell_type": "code",
   "execution_count": 2,
   "metadata": {},
   "outputs": [],
   "source": [
    "import os\n",
    "import glob\n",
    "import subprocess\n",
    "import ipyparallel as ipp\n",
    "import shutil"
   ]
  },
  {
   "cell_type": "markdown",
   "metadata": {},
   "source": [
    "A function to execute FVS that will be mapped to all keyfiles."
   ]
  },
  {
   "cell_type": "code",
   "execution_count": 1,
   "metadata": {},
   "outputs": [],
   "source": [
    "def run_fvs(keyfile):\n",
    "    fvs_exe = 'C:\\\\FVSbin\\\\'+os.path.split(keyfile)[-1][:5]+'.exe'\n",
    "    subprocess.call([fvs_exe, '--keywordfile='+keyfile]) # run fvs\n",
    "    \n",
    "    base_dir = os.path.split(keyfile)[0]\n",
    "    base_name = os.path.split(keyfile)[-1].split('.')[0]\n",
    "    \n",
    "#     # clean-up the outputs\n",
    "#     # move the .out and .key file\n",
    "#     path = os.path.join(base_dir, 'completed','keyfiles')\n",
    "#     if not os.path.exists(path): \n",
    "#         os.makedirs(path)\n",
    "#     shutil.move(keyfile, os.path.join(base_dir,'completed','keyfiles'))\n",
    "#     path = os.path.join(base_dir, 'completed','outfiles')\n",
    "#     if not os.path.exists(path):\n",
    "#         os.makedirs(path)\n",
    "#     shutil.move(os.path.join(base_dir,base_name+'.out'), os.path.join(base_dir,'completed','outfiles'))\n",
    "    \n",
    "#     # delete the other files\n",
    "#     os.remove(os.path.join(base_dir, base_name+'.trl'))\n",
    "    return keyfile"
   ]
  },
  {
   "cell_type": "markdown",
   "metadata": {},
   "source": [
    "Run the following command in a command prompt to start up a cluster of workers:\n",
    "\n",
    "`>> activate Py3.5 # or other environment name`\n",
    "\n",
    "`(Py3.5)>> ipcluster start -n 4 # or other number of cores`"
   ]
  },
  {
   "cell_type": "code",
   "execution_count": 3,
   "metadata": {},
   "outputs": [
    {
     "data": {
      "text/plain": [
       "[0, 1, 2, 3]"
      ]
     },
     "execution_count": 3,
     "metadata": {},
     "output_type": "execute_result"
    }
   ],
   "source": [
    "# create a hub to control the workers\n",
    "c = ipp.Client()\n",
    "c.ids"
   ]
  },
  {
   "cell_type": "code",
   "execution_count": 68,
   "metadata": {},
   "outputs": [],
   "source": [
    "# if you want to run a single keyfile, use this\n",
    "# subprocess.call(['C:\\\\FVSbin\\\\FVSpn.exe', '--keywordfile=C:\\\\GitHub\\\\FSC_Case_Studies\\\\keyfiles_to_run\\\\PN\\\\fvsPN_stand1_rx4_off0.key'])\n",
    "\n",
    "# as another example, for serial (not parallel) processing of some keyfiles without cleaning up output files:\n",
    "for keyfile in to_run:\n",
    "    run_fvs(keyfile)\n",
    "    #subprocess.call(['C:\\\\FVSbin\\\\FVSpn.exe', '--keywordfile='+keyfile])"
   ]
  },
  {
   "cell_type": "markdown",
   "metadata": {},
   "source": [
    "Create a direct view of the workers and a load-balanced view for submitting jobs"
   ]
  },
  {
   "cell_type": "code",
   "execution_count": 4,
   "metadata": {},
   "outputs": [
    {
     "name": "stdout",
     "output_type": "stream",
     "text": [
      "importing subprocess on engine(s)\n",
      "importing shutil on engine(s)\n",
      "importing os on engine(s)\n"
     ]
    }
   ],
   "source": [
    "dv = c[:] # direct view\n",
    "v = c.load_balanced_view() # load-balanced view\n",
    "\n",
    "# import packages to all workers\n",
    "with dv.sync_imports():\n",
    "    import subprocess\n",
    "    import shutil\n",
    "    import os"
   ]
  },
  {
   "cell_type": "markdown",
   "metadata": {},
   "source": [
    "Execute an ayschronous batch of FVS runs for all the keyfiles"
   ]
  },
  {
   "cell_type": "code",
   "execution_count": 27,
   "metadata": {},
   "outputs": [
    {
     "name": "stdout",
     "output_type": "stream",
     "text": [
      "46 keyfiles found.\n"
     ]
    }
   ],
   "source": [
    "# gather the list of keyfiles to run\n",
    "run_dir = os.path.abspath('keyfiles_to_run')\n",
    "to_run = glob.glob(os.path.join(run_dir, '*.key'))\n",
    "print('{:,}'.format(len(to_run)), 'keyfiles found.')"
   ]
  },
  {
   "cell_type": "code",
   "execution_count": 28,
   "metadata": {},
   "outputs": [],
   "source": [
    "to_run = to_run*15"
   ]
  },
  {
   "cell_type": "markdown",
   "metadata": {},
   "source": [
    "Monitor progress of batch run"
   ]
  },
  {
   "cell_type": "code",
   "execution_count": 7,
   "metadata": {},
   "outputs": [],
   "source": [
    "from tqdm import tqdm_notebook\n",
    "import time"
   ]
  },
  {
   "cell_type": "code",
   "execution_count": 29,
   "metadata": {},
   "outputs": [
    {
     "name": "stdout",
     "output_type": "stream",
     "text": [
      "Started batch processing.\n"
     ]
    },
    {
     "data": {
      "application/vnd.jupyter.widget-view+json": {
       "model_id": "29eae47eb14f48bab5faca5e98ef6817"
      }
     },
     "metadata": {},
     "output_type": "display_data"
    },
    {
     "name": "stdout",
     "output_type": "stream",
     "text": [
      "\n"
     ]
    }
   ],
   "source": [
    "# start asynchronous batch with load-balanced view\n",
    "res = v.map_async(run_fvs, to_run)\n",
    "print('Started batch processing.')\n",
    "\n",
    "runs_done = res.progress\n",
    "with tqdm_notebook(total=len(res), initial=runs_done, desc='FVS Run Progress', unit='keyfile') as pbar:\n",
    "    while not res.ready():\n",
    "        new_progress = res.progress - runs_done\n",
    "        runs_done += new_progress\n",
    "        pbar.update(new_progress)\n",
    "        time.sleep(0.5)"
   ]
  },
  {
   "cell_type": "code",
   "execution_count": 20,
   "metadata": {},
   "outputs": [],
   "source": [
    "res.abort()"
   ]
  },
  {
   "cell_type": "code",
   "execution_count": 12,
   "metadata": {},
   "outputs": [
    {
     "data": {
      "text/plain": [
       "True"
      ]
     },
     "execution_count": 12,
     "metadata": {},
     "output_type": "execute_result"
    }
   ],
   "source": [
    "res.ready()"
   ]
  },
  {
   "cell_type": "code",
   "execution_count": null,
   "metadata": {},
   "outputs": [],
   "source": [
    "# Return a true/false if full set of jobs completed\n",
    "# res.ready()\n",
    "\n",
    "# Cancels the batch (wait for fvs executables to complete)\n",
    "# res.abort()"
   ]
  },
  {
   "cell_type": "code",
   "execution_count": 26,
   "metadata": {},
   "outputs": [
    {
     "name": "stdout",
     "output_type": "stream",
     "text": [
      "Human time spent: 4119.815965\n",
      "Computer time spent: 16177.350972999937\n",
      "Async speedup: 3.926716899598193\n",
      "Human time per FVS run: 0.4017372954656265\n",
      "Computer time per FVS run: 1.5775086273037482\n"
     ]
    }
   ],
   "source": [
    "print('Human time spent:', res.wall_time)\n",
    "print('Computer time spent:', res.serial_time)\n",
    "print('Async speedup:', res.serial_time/res.wall_time)\n",
    "print('Human time per FVS run:', res.wall_time/res.progress)\n",
    "print('Computer time per FVS run:', res.serial_time/res.progress)"
   ]
  },
  {
   "cell_type": "code",
   "execution_count": 27,
   "metadata": {},
   "outputs": [
    {
     "data": {
      "image/png": "[encoded data removed]",
      "text/plain": [
       "<matplotlib.figure.Figure at 0x24fc2fbbcf8>"
      ]
     },
     "metadata": {},
     "output_type": "display_data"
    }
   ],
   "source": [
    "# inspect how processing speed per run changed as batch progressed\n",
    "from matplotlib import pyplot as plt\n",
    "%matplotlib inline\n",
    "time_steps = \n",
    "#[(t2 - t1).total_seconds() for t2, t1 in zip(res.received, res.submitted)]\n",
    "plt.plot(time_steps)\n",
    "plt.ylabel('time per run')\n",
    "plt.xlabel('runs completed')\n",
    "plt.show()"
   ]
  },
  {
   "cell_type": "code",
   "execution_count": 29,
   "metadata": {},
   "outputs": [
    {
     "data": {
      "text/plain": [
       "61584"
      ]
     },
     "execution_count": 29,
     "metadata": {},
     "output_type": "execute_result"
    }
   ],
   "source": [
    "len(glob.glob('C:/GitHub/FSC_Case_Studies/keyfiles_to_run/completed/keyfiles/*.key'))"
   ]
  },
  {
   "cell_type": "code",
   "execution_count": null,
   "metadata": {
    "collapsed": true
   },
   "outputs": [],
   "source": [
    "len(stands)"
   ]
  },
  {
   "cell_type": "code",
   "execution_count": 37,
   "metadata": {
    "collapsed": true
   },
   "outputs": [],
   "source": [
    "# shut down the parallel workers\n",
    "c.shutdown(hub=True)"
   ]
  },
  {
   "cell_type": "markdown",
   "metadata": {},
   "source": [
    "### Check for runs that didn't complete successfully"
   ]
  },
  {
   "cell_type": "code",
   "execution_count": 69,
   "metadata": {},
   "outputs": [],
   "source": [
    "import psycopg2\n",
    "import pandas as pd\n",
    "conn = psycopg2.connect(\"dbname='FVSOut' user='postgres' host='localhost'\") # password in pgpass file\n",
    "SQL = '''\n",
    "SELECT keywordfile, caseid, mgmtid\n",
    "FROM cases;\n",
    "'''\n",
    "# read the query into a pandas dataframe\n",
    "completed = pd.read_sql(SQL, conn)\n",
    "\n",
    "# close the database connection\n",
    "conn.close()"
   ]
  },
  {
   "cell_type": "code",
   "execution_count": 70,
   "metadata": {},
   "outputs": [
    {
     "data": {
      "text/plain": [
       "61584"
      ]
     },
     "execution_count": 70,
     "metadata": {},
     "output_type": "execute_result"
    }
   ],
   "source": [
    "len(pd.unique(completed.caseid))"
   ]
  },
  {
   "cell_type": "code",
   "execution_count": 71,
   "metadata": {},
   "outputs": [
    {
     "data": {
      "text/plain": [
       "61584"
      ]
     },
     "execution_count": 71,
     "metadata": {},
     "output_type": "execute_result"
    }
   ],
   "source": [
    "len(completed.caseid)"
   ]
  },
  {
   "cell_type": "code",
   "execution_count": 72,
   "metadata": {},
   "outputs": [
    {
     "data": {
      "text/plain": [
       "'fvsPN_stand10000_rx1_off0.key'"
      ]
     },
     "execution_count": 72,
     "metadata": {},
     "output_type": "execute_result"
    }
   ],
   "source": [
    "completed['keyfile'] = completed.keywordfile.apply(lambda x: os.path.split(x)[-1] + '.key')\n",
    "completed.keyfile.values[0]"
   ]
  },
  {
   "cell_type": "code",
   "execution_count": 73,
   "metadata": {},
   "outputs": [
    {
     "data": {
      "text/html": [
       "<div>\n",
       "<style>\n",
       "    .dataframe thead tr:only-child th {\n",
       "        text-align: right;\n",
       "    }\n",
       "\n",
       "    .dataframe thead th {\n",
       "        text-align: left;\n",
       "    }\n",
       "\n",
       "    .dataframe tbody tr th {\n",
       "        vertical-align: top;\n",
       "    }\n",
       "</style>\n",
       "<table border=\"1\" class=\"dataframe\">\n",
       "  <thead>\n",
       "    <tr style=\"text-align: right;\">\n",
       "      <th></th>\n",
       "      <th>keywordfile</th>\n",
       "      <th>mgmtid</th>\n",
       "      <th>keyfile</th>\n",
       "    </tr>\n",
       "    <tr>\n",
       "      <th>caseid</th>\n",
       "      <th></th>\n",
       "      <th></th>\n",
       "      <th></th>\n",
       "    </tr>\n",
       "  </thead>\n",
       "  <tbody>\n",
       "  </tbody>\n",
       "</table>\n",
       "</div>"
      ],
      "text/plain": [
       "Empty DataFrame\n",
       "Columns: [keywordfile, mgmtid, keyfile]\n",
       "Index: []"
      ]
     },
     "execution_count": 73,
     "metadata": {},
     "output_type": "execute_result"
    }
   ],
   "source": [
    "#counts = \n",
    "#counts.loc[counts.keyfile > 1]\n",
    "cases_count = completed.groupby('caseid').count()\n",
    "dupes = cases_count.loc[cases_count.keyfile > 1]\n",
    "dupes"
   ]
  },
  {
   "cell_type": "code",
   "execution_count": 74,
   "metadata": {},
   "outputs": [
    {
     "name": "stdout",
     "output_type": "stream",
     "text": [
      "61584 keyfiles in database\n",
      "61584 keyfiles in completed folder\n"
     ]
    }
   ],
   "source": [
    "completed_keys = glob.glob('C:\\\\GitHub\\\\FSC_Case_Studies\\\\keyfiles_to_run\\\\completed\\\\keyfiles\\\\*.key')\n",
    "completed_basenames = [os.path.split(x)[-1] for x in completed_keys]\n",
    "print(len(completed), 'keyfiles in database')\n",
    "print(len(completed_basenames), 'keyfiles in completed folder')\n",
    "\n",
    "for keyfile in completed.keyfile.values: # keyfiles recorded in the DB\n",
    "    if keyfile not in completed_basenames:\n",
    "        print(keyfile)\n",
    "\n",
    "for keyfile in completed_basenames: # keyfiles recorded in the DB\n",
    "    if keyfile not in completed.keyfile.values: # keyfiles moved into output folder\n",
    "        print(keyfile)"
   ]
  },
  {
   "cell_type": "code",
   "execution_count": 64,
   "metadata": {},
   "outputs": [
    {
     "name": "stdout",
     "output_type": "stream",
     "text": [
      "Moved fvsPN_stand11299_rx3_off0.out .\n",
      "Moved fvsPN_stand1862_rx2inner_off0.out .\n",
      "Moved fvsPN_stand2369_rx4_off0.out .\n",
      "Moved fvsPN_stand2369_rx5_off0.out .\n",
      "Moved fvsPN_stand237_rx5_off0.out .\n",
      "Moved fvsPN_stand239_rx3_off0.out .\n",
      "Moved fvsPN_stand319_rx5inner_off0.out .\n",
      "Moved fvsPN_stand4225_rx1_off0.out .\n",
      "Moved fvsPN_stand5802_rx5inner_off0.out .\n",
      "Moved fvsPN_stand7307_rx3_off0.out .\n"
     ]
    }
   ],
   "source": [
    "# to_rerun = ['fvsPN_stand11299_rx3_off0.key', 'fvsPN_stand1862_rx2inner_off0.key', 'fvsPN_stand2369_rx4_off0.key', \n",
    "#             'fvsPN_stand2369_rx5_off0.key', 'fvsPN_stand237_rx5_off0.key', 'fvsPN_stand239_rx3_off0.key', \n",
    "#             'fvsPN_stand319_rx5inner_off0.key', 'fvsPN_stand4225_rx1_off0.key', 'fvsPN_stand5802_rx5inner_off0.key',\n",
    "#             'fvsPN_stand7307_rx3_off0.key']\n",
    "\n",
    "# for keyfile in to_rerun:\n",
    "# # move the keyfile back into the keyfiles_to_run directory\n",
    "#     outfile = keyfile.split('.key')[0] + '.out'\n",
    "#     base_dir = 'C:/GitHub/FSC_Case_Studies/keyfiles_to_run'\n",
    "#     #shutil.move(os.path.join(base_dir,'completed','keyfiles', keyfile), os.path.join(base_dir,keyfile))\n",
    "#     shutil.move(os.path.join(base_dir,'completed','outfiles', outfile), os.path.join(base_dir,outfile))\n",
    "#     print('Moved', outfile, '.')"
   ]
  },
  {
   "cell_type": "code",
   "execution_count": 49,
   "metadata": {},
   "outputs": [
    {
     "data": {
      "text/html": [
       "<div>\n",
       "<style>\n",
       "    .dataframe thead tr:only-child th {\n",
       "        text-align: right;\n",
       "    }\n",
       "\n",
       "    .dataframe thead th {\n",
       "        text-align: left;\n",
       "    }\n",
       "\n",
       "    .dataframe tbody tr th {\n",
       "        vertical-align: top;\n",
       "    }\n",
       "</style>\n",
       "<table border=\"1\" class=\"dataframe\">\n",
       "  <thead>\n",
       "    <tr style=\"text-align: right;\">\n",
       "      <th></th>\n",
       "      <th>caseid</th>\n",
       "      <th>mgmtid</th>\n",
       "      <th>keyfile</th>\n",
       "    </tr>\n",
       "    <tr>\n",
       "      <th>keywordfile</th>\n",
       "      <th></th>\n",
       "      <th></th>\n",
       "      <th></th>\n",
       "    </tr>\n",
       "  </thead>\n",
       "  <tbody>\n",
       "    <tr>\n",
       "      <th>C:\\G...es\\keyfiles_to_run\\fvsPN_stand2369_rx4_off0</th>\n",
       "      <td>2</td>\n",
       "      <td>2</td>\n",
       "      <td>2</td>\n",
       "    </tr>\n",
       "    <tr>\n",
       "      <th>C:\\G...es\\keyfiles_to_run\\fvsPN_stand2369_rx5_off0</th>\n",
       "      <td>2</td>\n",
       "      <td>2</td>\n",
       "      <td>2</td>\n",
       "    </tr>\n",
       "  </tbody>\n",
       "</table>\n",
       "</div>"
      ],
      "text/plain": [
       "                                                    caseid  mgmtid  keyfile\n",
       "keywordfile                                                                \n",
       "C:\\G...es\\keyfiles_to_run\\fvsPN_stand2369_rx4_off0       2       2        2\n",
       "C:\\G...es\\keyfiles_to_run\\fvsPN_stand2369_rx5_off0       2       2        2"
      ]
     },
     "execution_count": 49,
     "metadata": {},
     "output_type": "execute_result"
    }
   ],
   "source": [
    "counts = completed.groupby('keywordfile').count()\n",
    "counts.loc[counts.keyfile > 1]"
   ]
  },
  {
   "cell_type": "code",
   "execution_count": 75,
   "metadata": {
    "collapsed": true
   },
   "outputs": [],
   "source": [
    "conn = psycopg2.connect(\"dbname='FVSOut' user='postgres' host='localhost'\") # password in pgpass file\n",
    "SQL = '''\n",
    "SELECT mgmtid, cases.caseid, cases.standid, keywordfile, total_stand_carbon, rbdft, summary.year\n",
    "FROM cases, summary, carbon\n",
    "WHERE cases.caseid = summary.caseid AND cases.caseid = carbon.caseid AND summary.year = carbon.year AND cases.standid = summary.standid AND cases.standid = carbon.standid;\n",
    "'''\n",
    "# read the query into a pandas dataframe\n",
    "completed_attributes = pd.read_sql(SQL, conn)\n",
    "\n",
    "# close the database connection\n",
    "conn.close()"
   ]
  },
  {
   "cell_type": "code",
   "execution_count": 76,
   "metadata": {},
   "outputs": [
    {
     "data": {
      "text/html": [
       "<div>\n",
       "<style>\n",
       "    .dataframe thead tr:only-child th {\n",
       "        text-align: right;\n",
       "    }\n",
       "\n",
       "    .dataframe thead th {\n",
       "        text-align: left;\n",
       "    }\n",
       "\n",
       "    .dataframe tbody tr th {\n",
       "        vertical-align: top;\n",
       "    }\n",
       "</style>\n",
       "<table border=\"1\" class=\"dataframe\">\n",
       "  <thead>\n",
       "    <tr style=\"text-align: right;\">\n",
       "      <th></th>\n",
       "      <th>mgmtid</th>\n",
       "      <th>caseid</th>\n",
       "      <th>standid</th>\n",
       "      <th>keywordfile</th>\n",
       "      <th>total_stand_carbon</th>\n",
       "      <th>rbdft</th>\n",
       "      <th>year</th>\n",
       "    </tr>\n",
       "  </thead>\n",
       "  <tbody>\n",
       "    <tr>\n",
       "      <th>0</th>\n",
       "      <td>Rx5</td>\n",
       "      <td>5660f58f-aa81-41aa-b39a-1c55fc4eb16f</td>\n",
       "      <td>10002</td>\n",
       "      <td>C:\\G...s\\keyfiles_to_run\\fvsPN_stand10002_rx5_...</td>\n",
       "      <td>61.2331</td>\n",
       "      <td>0.0</td>\n",
       "      <td>2094</td>\n",
       "    </tr>\n",
       "    <tr>\n",
       "      <th>1</th>\n",
       "      <td>Rx3</td>\n",
       "      <td>52203654-5d20-4f94-b7ec-2ec3cf34f59e</td>\n",
       "      <td>10003</td>\n",
       "      <td>C:\\G...s\\keyfiles_to_run\\fvsPN_stand10003_rx3_...</td>\n",
       "      <td>64.1227</td>\n",
       "      <td>0.0</td>\n",
       "      <td>2079</td>\n",
       "    </tr>\n",
       "    <tr>\n",
       "      <th>2</th>\n",
       "      <td>Rx1</td>\n",
       "      <td>509ae665-0b75-4e27-b3f6-19a78418ad2c</td>\n",
       "      <td>10004</td>\n",
       "      <td>C:\\G...s\\keyfiles_to_run\\fvsPN_stand10004_rx1_...</td>\n",
       "      <td>108.6650</td>\n",
       "      <td>0.0</td>\n",
       "      <td>2019</td>\n",
       "    </tr>\n",
       "    <tr>\n",
       "      <th>3</th>\n",
       "      <td>Rx4</td>\n",
       "      <td>170309be-515b-459e-a231-fffb393475de</td>\n",
       "      <td>10004</td>\n",
       "      <td>C:\\G...s\\keyfiles_to_run\\fvsPN_stand10004_rx4_...</td>\n",
       "      <td>62.8849</td>\n",
       "      <td>0.0</td>\n",
       "      <td>2054</td>\n",
       "    </tr>\n",
       "    <tr>\n",
       "      <th>4</th>\n",
       "      <td>Rx5</td>\n",
       "      <td>b1deaf0a-8148-4d41-902f-17998fbd1347</td>\n",
       "      <td>10004</td>\n",
       "      <td>C:\\G...s\\keyfiles_to_run\\fvsPN_stand10004_rx5_...</td>\n",
       "      <td>88.6484</td>\n",
       "      <td>7393.0</td>\n",
       "      <td>2064</td>\n",
       "    </tr>\n",
       "  </tbody>\n",
       "</table>\n",
       "</div>"
      ],
      "text/plain": [
       "  mgmtid                                caseid standid  \\\n",
       "0    Rx5  5660f58f-aa81-41aa-b39a-1c55fc4eb16f   10002   \n",
       "1    Rx3  52203654-5d20-4f94-b7ec-2ec3cf34f59e   10003   \n",
       "2    Rx1  509ae665-0b75-4e27-b3f6-19a78418ad2c   10004   \n",
       "3    Rx4  170309be-515b-459e-a231-fffb393475de   10004   \n",
       "4    Rx5  b1deaf0a-8148-4d41-902f-17998fbd1347   10004   \n",
       "\n",
       "                                         keywordfile  total_stand_carbon  \\\n",
       "0  C:\\G...s\\keyfiles_to_run\\fvsPN_stand10002_rx5_...             61.2331   \n",
       "1  C:\\G...s\\keyfiles_to_run\\fvsPN_stand10003_rx3_...             64.1227   \n",
       "2  C:\\G...s\\keyfiles_to_run\\fvsPN_stand10004_rx1_...            108.6650   \n",
       "3  C:\\G...s\\keyfiles_to_run\\fvsPN_stand10004_rx4_...             62.8849   \n",
       "4  C:\\G...s\\keyfiles_to_run\\fvsPN_stand10004_rx5_...             88.6484   \n",
       "\n",
       "    rbdft  year  \n",
       "0     0.0  2094  \n",
       "1     0.0  2079  \n",
       "2     0.0  2019  \n",
       "3     0.0  2054  \n",
       "4  7393.0  2064  "
      ]
     },
     "execution_count": 76,
     "metadata": {},
     "output_type": "execute_result"
    }
   ],
   "source": [
    "completed_attributes.head()"
   ]
  },
  {
   "cell_type": "code",
   "execution_count": 77,
   "metadata": {},
   "outputs": [],
   "source": [
    "count_atts = completed_attributes.groupby(['mgmtid', 'standid']).count()"
   ]
  },
  {
   "cell_type": "code",
   "execution_count": 78,
   "metadata": {},
   "outputs": [
    {
     "data": {
      "text/html": [
       "<div>\n",
       "<style>\n",
       "    .dataframe thead tr:only-child th {\n",
       "        text-align: right;\n",
       "    }\n",
       "\n",
       "    .dataframe thead th {\n",
       "        text-align: left;\n",
       "    }\n",
       "\n",
       "    .dataframe tbody tr th {\n",
       "        vertical-align: top;\n",
       "    }\n",
       "</style>\n",
       "<table border=\"1\" class=\"dataframe\">\n",
       "  <thead>\n",
       "    <tr style=\"text-align: right;\">\n",
       "      <th></th>\n",
       "      <th>standid</th>\n",
       "    </tr>\n",
       "    <tr>\n",
       "      <th>mgmtid</th>\n",
       "      <th></th>\n",
       "    </tr>\n",
       "  </thead>\n",
       "  <tbody>\n",
       "    <tr>\n",
       "      <th>Rx1</th>\n",
       "      <td>10500</td>\n",
       "    </tr>\n",
       "    <tr>\n",
       "      <th>Rx2</th>\n",
       "      <td>10500</td>\n",
       "    </tr>\n",
       "    <tr>\n",
       "      <th>Rx2I</th>\n",
       "      <td>4020</td>\n",
       "    </tr>\n",
       "    <tr>\n",
       "      <th>Rx2O</th>\n",
       "      <td>522</td>\n",
       "    </tr>\n",
       "    <tr>\n",
       "      <th>Rx3</th>\n",
       "      <td>10500</td>\n",
       "    </tr>\n",
       "    <tr>\n",
       "      <th>Rx4</th>\n",
       "      <td>10500</td>\n",
       "    </tr>\n",
       "    <tr>\n",
       "      <th>Rx5</th>\n",
       "      <td>10500</td>\n",
       "    </tr>\n",
       "    <tr>\n",
       "      <th>Rx5I</th>\n",
       "      <td>4020</td>\n",
       "    </tr>\n",
       "    <tr>\n",
       "      <th>Rx5O</th>\n",
       "      <td>522</td>\n",
       "    </tr>\n",
       "  </tbody>\n",
       "</table>\n",
       "</div>"
      ],
      "text/plain": [
       "        standid\n",
       "mgmtid         \n",
       "Rx1       10500\n",
       "Rx2       10500\n",
       "Rx2I       4020\n",
       "Rx2O        522\n",
       "Rx3       10500\n",
       "Rx4       10500\n",
       "Rx5       10500\n",
       "Rx5I       4020\n",
       "Rx5O        522"
      ]
     },
     "execution_count": 78,
     "metadata": {},
     "output_type": "execute_result"
    }
   ],
   "source": [
    "completed_attributes.loc[completed_attributes.year == 2014][['mgmtid', 'standid']].groupby(['mgmtid']).count()"
   ]
  },
  {
   "cell_type": "code",
   "execution_count": 80,
   "metadata": {},
   "outputs": [
    {
     "data": {
      "text/html": [
       "<div>\n",
       "<style>\n",
       "    .dataframe thead tr:only-child th {\n",
       "        text-align: right;\n",
       "    }\n",
       "\n",
       "    .dataframe thead th {\n",
       "        text-align: left;\n",
       "    }\n",
       "\n",
       "    .dataframe tbody tr th {\n",
       "        vertical-align: top;\n",
       "    }\n",
       "</style>\n",
       "<table border=\"1\" class=\"dataframe\">\n",
       "  <thead>\n",
       "    <tr style=\"text-align: right;\">\n",
       "      <th></th>\n",
       "      <th></th>\n",
       "      <th>caseid</th>\n",
       "      <th>keywordfile</th>\n",
       "      <th>total_stand_carbon</th>\n",
       "      <th>rbdft</th>\n",
       "      <th>year</th>\n",
       "    </tr>\n",
       "    <tr>\n",
       "      <th>mgmtid</th>\n",
       "      <th>standid</th>\n",
       "      <th></th>\n",
       "      <th></th>\n",
       "      <th></th>\n",
       "      <th></th>\n",
       "      <th></th>\n",
       "    </tr>\n",
       "  </thead>\n",
       "  <tbody>\n",
       "  </tbody>\n",
       "</table>\n",
       "</div>"
      ],
      "text/plain": [
       "Empty DataFrame\n",
       "Columns: [caseid, keywordfile, total_stand_carbon, rbdft, year]\n",
       "Index: []"
      ]
     },
     "execution_count": 80,
     "metadata": {},
     "output_type": "execute_result"
    }
   ],
   "source": [
    "count_atts.loc[count_atts.rbdft != 20]"
   ]
  },
  {
   "cell_type": "code",
   "execution_count": null,
   "metadata": {},
   "outputs": [],
   "source": [
    "# failed = glob.glob('C:\\\\GitHub\\\\FSC_Case_Studies\\\\keyfiles_to_run\\\\PN\\\\completed\\\\outfiles\\\\failed\\\\*.out')\n",
    "# failed_basenames = [os.path.split(x)[-1].split('.')[0] for x in failed]\n",
    "# moved = glob.glob('C:\\\\GitHub\\\\FSC_Case_Studies\\\\keyfiles_to_run\\\\*.key')\n",
    "# moved_basenames = [os.path.split(x)[-1].split('.')[0] for x in moved]\n",
    "# for path in moved:\n",
    "#     if os.path.split(path)[-1].split('.')[0] not in failed_basenames:\n",
    "#         print(path, \"not in failed, but was moved\")\n",
    "# for path in failed:\n",
    "#     if os.path.split(path)[-1].split('.')[0] not in moved_basenames:\n",
    "#         print(path, \"not in moved, but failed\")"
   ]
  }
 ],
 "metadata": {
  "kernelspec": {
   "display_name": "Python [conda env:Py3.5]",
   "language": "python",
   "name": "conda-env-Py3.5-py"
  },
  "language_info": {
   "codemirror_mode": {
    "name": "ipython",
    "version": 3
   },
   "file_extension": ".py",
   "mimetype": "text/x-python",
   "name": "python",
   "nbconvert_exporter": "python",
   "pygments_lexer": "ipython3",
   "version": "3.5.3"
  }
 },
 "nbformat": 4,
 "nbformat_minor": 2
}
