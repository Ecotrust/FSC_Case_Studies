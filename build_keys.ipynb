{
 "cells": [
  {
   "cell_type": "markdown",
   "metadata": {},
   "source": [
    "Construct key files from project directory containing a Base FVS Rx template."
   ]
  },
  {
   "cell_type": "code",
   "execution_count": 1,
   "metadata": {
    "collapsed": true
   },
   "outputs": [],
   "source": [
    "import os\n",
    "import glob\n",
    "from jinja2 import Template"
   ]
  },
  {
   "cell_type": "markdown",
   "metadata": {},
   "source": [
    "Identify stands to run and number of offsets to include."
   ]
  },
  {
   "cell_type": "code",
   "execution_count": 2,
   "metadata": {
    "collapsed": true
   },
   "outputs": [],
   "source": [
    "stands = {}"
   ]
  },
  {
   "cell_type": "code",
   "execution_count": 21,
   "metadata": {
    "collapsed": true
   },
   "outputs": [],
   "source": [
    "stands = {25123: ['rx1', 'rx2', 'rx2inner', 'rx2outer', 'rx4', 'rx5', 'rx5inner', 'rx5outer']}\n",
    "# a dictionary with each standID as a key, and a list of rxs as a list\n",
    "# standID: [rx1, rx2...], standID2: [rx2, rx3...]"
   ]
  },
  {
   "cell_type": "code",
   "execution_count": 5,
   "metadata": {
    "collapsed": true
   },
   "outputs": [],
   "source": [
    "offsets = [0, 5, 10]\n",
    "# a list of 5-year offsets to use to delay implementation of management regime"
   ]
  },
  {
   "cell_type": "markdown",
   "metadata": {},
   "source": [
    "Create a dictionary with items to insert using jinja2 templating"
   ]
  },
  {
   "cell_type": "code",
   "execution_count": 6,
   "metadata": {
    "collapsed": true
   },
   "outputs": [],
   "source": [
    "inserts = {}"
   ]
  },
  {
   "cell_type": "code",
   "execution_count": 7,
   "metadata": {
    "collapsed": true
   },
   "outputs": [],
   "source": [
    "# input and output, named databases\n",
    "inserts['FVSIn'] = 'FVSIn'\n",
    "inserts['FVSOut'] = 'FVSOut'"
   ]
  },
  {
   "cell_type": "markdown",
   "metadata": {},
   "source": [
    "Take a look at all the .kcp files in your Rx_Template directory"
   ]
  },
  {
   "cell_type": "code",
   "execution_count": 30,
   "metadata": {},
   "outputs": [
    {
     "name": "stdout",
     "output_type": "stream",
     "text": [
      "Log_Value\n",
      "Mgmt_Costs\n",
      "SDImax_PN\n",
      "SP_Groups\n"
     ]
    }
   ],
   "source": [
    "for fh in glob.glob('./Rx_Template/*.kcp'):\n",
    "    fname = fh.split('/')[-1].split('.')[0]\n",
    "    print(fname)"
   ]
  },
  {
   "cell_type": "markdown",
   "metadata": {},
   "source": [
    "Read the contents of each .kcp file and store them as values in the `inserts` dictionary."
   ]
  },
  {
   "cell_type": "code",
   "execution_count": 9,
   "metadata": {
    "collapsed": true
   },
   "outputs": [],
   "source": [
    "for fh in glob.glob('./Rx_Template/*.kcp'):\n",
    "    key = fh.split('/')[-1].split('.')[0]\n",
    "    with open(fh, 'r') as item:\n",
    "        value = item.read()\n",
    "    # add them to the dictionary\n",
    "    inserts[key] = value"
   ]
  },
  {
   "cell_type": "markdown",
   "metadata": {},
   "source": [
    "Read the contents of each rx*.kcp file and store them as values in the `rxs` dictionary."
   ]
  },
  {
   "cell_type": "code",
   "execution_count": 4,
   "metadata": {
    "collapsed": true
   },
   "outputs": [],
   "source": [
    "rxs = {}\n",
    "# a dictionary storing the silvicultural keywords for each rx"
   ]
  },
  {
   "cell_type": "code",
   "execution_count": 10,
   "metadata": {
    "collapsed": true
   },
   "outputs": [],
   "source": [
    "for fh in glob.glob('./Rx_Template/rxs/rx*.kcp'):\n",
    "    key = fh.split('/')[-1].split('.')[0]\n",
    "    with open(fh, 'r') as item:\n",
    "        value = item.read()\n",
    "    # add them to the dictionary\n",
    "    rxs[key] = value"
   ]
  },
  {
   "cell_type": "markdown",
   "metadata": {},
   "source": [
    "Read in the Rx Template using jinja2, will allow for easy replacing of {{items}}"
   ]
  },
  {
   "cell_type": "code",
   "execution_count": 14,
   "metadata": {},
   "outputs": [],
   "source": [
    "with open('./Rx_Template/Base_Rx.key', 'r') as basekey:\n",
    "    template = Template(basekey.read())"
   ]
  },
  {
   "cell_type": "markdown",
   "metadata": {},
   "source": [
    "Write all the keyfiles"
   ]
  },
  {
   "cell_type": "code",
   "execution_count": 29,
   "metadata": {},
   "outputs": [
    {
     "name": "stdout",
     "output_type": "stream",
     "text": [
      "Creating keyfiles for stand 25123... 24 keyfiles written.\n",
      "Done. Created 24 keyfiles for 1 stands.\n"
     ]
    }
   ],
   "source": [
    "stands_processed = 0\n",
    "keyfiles_written = 0\n",
    "\n",
    "for standID in stands:\n",
    "    inserts['ID'] = standID\n",
    "    print('Creating keyfiles for stand', standID, end='... ')\n",
    "    stands_processed += 1\n",
    "    stand_keyfiles = 0\n",
    "    for rx in stands[standID]: # uses rx's listed for each stand in the stands dictionary\n",
    "        inserts['rx'] = rxs[rx]\n",
    "        for offset in offsets:\n",
    "            inserts['offset'] = offset\n",
    "            with open(os.path.join('./keyfiles_to_run/',str(standID)+'_'+rx+'_off'+str(offset)+'.key'),'w') as keyfile:\n",
    "                keyfile.write(template.render(**inserts))\n",
    "            keyfiles_written += 1\n",
    "            stand_keyfiles += 1\n",
    "    print(stand_keyfiles, 'keyfiles written.')\n",
    "print('Done. Created', keyfiles_written, 'keyfiles for', stands_processed, 'stands.')"
   ]
  }
 ],
 "metadata": {
  "kernelspec": {
   "display_name": "Python [conda env:Py3.5]",
   "language": "python",
   "name": "conda-env-Py3.5-py"
  },
  "language_info": {
   "codemirror_mode": {
    "name": "ipython",
    "version": 3
   },
   "file_extension": ".py",
   "mimetype": "text/x-python",
   "name": "python",
   "nbconvert_exporter": "python",
   "pygments_lexer": "ipython3",
   "version": "3.5.3"
  }
 },
 "nbformat": 4,
 "nbformat_minor": 2
}
