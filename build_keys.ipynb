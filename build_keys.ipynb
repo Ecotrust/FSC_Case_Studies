{
 "cells": [
  {
   "cell_type": "markdown",
   "metadata": {},
   "source": [
    "<h2>Construct keyfiles from project directory containing a Base FVS Rx template.</h2>"
   ]
  },
  {
   "cell_type": "code",
   "execution_count": null,
   "metadata": {
    "collapsed": true
   },
   "outputs": [],
   "source": [
    "import os\n",
    "import glob\n",
    "from jinja2 import Template"
   ]
  },
  {
   "cell_type": "markdown",
   "metadata": {},
   "source": [
    "Identify stands to run."
   ]
  },
  {
   "cell_type": "code",
   "execution_count": null,
   "metadata": {
    "collapsed": true
   },
   "outputs": [],
   "source": [
    "# stands = ['25123'] # all stands to create keyfiles"
   ]
  },
  {
   "cell_type": "markdown",
   "metadata": {},
   "source": [
    "Create a jinja2 template from a Base_Rx.key file."
   ]
  },
  {
   "cell_type": "code",
   "execution_count": null,
   "metadata": {},
   "outputs": [],
   "source": [
    "# read in the base_rx keyfile template using jinja2 templating\n",
    "with open(os.path.join('Rx_Template','Base_Rx.key'), 'r') as base_keyfile:\n",
    "    template = Template(base_keyfile.read())\n",
    "    print('Found Base_Rx.key and created jinja2 template.')"
   ]
  },
  {
   "cell_type": "markdown",
   "metadata": {},
   "source": [
    "A dictionary for holding the items to insert into an FVS keyfile template using jinja2 templating."
   ]
  },
  {
   "cell_type": "code",
   "execution_count": null,
   "metadata": {
    "collapsed": true
   },
   "outputs": [],
   "source": [
    "inserts = {}"
   ]
  },
  {
   "cell_type": "markdown",
   "metadata": {},
   "source": [
    "Specify the FVS input and output databases for insertion in the jinja2 template"
   ]
  },
  {
   "cell_type": "code",
   "execution_count": null,
   "metadata": {},
   "outputs": [],
   "source": [
    "inserts['FVSIn'] = 'FVSIn'\n",
    "inserts['FVSOut'] = 'FVSOut'"
   ]
  },
  {
   "cell_type": "markdown",
   "metadata": {},
   "source": [
    "Look in the Rx_Template directory, add all the kcp files to the `inserts` dictionary."
   ]
  },
  {
   "cell_type": "code",
   "execution_count": null,
   "metadata": {},
   "outputs": [],
   "source": [
    "template_kcps = glob.glob(os.path.join('Rx_Template','*.kcp'))\n",
    "if len(template_kcps) > 0:\n",
    "    print('Found the following kcp files in the Rx_Template directory:')\n",
    "    for kcp in template_kcps:\n",
    "        fname = os.path.split(kcp)[-1]\n",
    "        print(fname, end='...')\n",
    "        # read the kcp file\n",
    "        key = fname.split('.')[0] # key for item in inserts dictionary\n",
    "        with open(kcp, 'r') as item:\n",
    "            value = item.read()\n",
    "        # add the contents of the kcp file to the inserts dictionary\n",
    "        inserts[key] = value\n",
    "        print(' added to template.')\n",
    "else: \n",
    "    raise FileNotFoundError('No kcp files found in the Rx_Template directory.')"
   ]
  },
  {
   "cell_type": "markdown",
   "metadata": {},
   "source": [
    "Read the contents of each rx*.kcp file in the Rxs directory and store them as values in an `rxs_dict` dictionary."
   ]
  },
  {
   "cell_type": "code",
   "execution_count": null,
   "metadata": {},
   "outputs": [],
   "source": [
    "rxs_dict = {}\n",
    "# a dictionary storing the silvicultural keywords for each rx\n",
    "rx_kcps = glob.glob(os.path.join('Rx_Template', 'Rxs', 'rx*.kcp'))\n",
    "if len(rx_kcps) > 0:\n",
    "    print('Found the following kcp files in the Rxs subdirectory:')\n",
    "    for kcp in rx_kcps:\n",
    "        fname = os.path.split(kcp)[-1]\n",
    "        print(fname, end='...')\n",
    "        # read the kcp file\n",
    "        key = fname.split('/')[-1].split('.')[0] # key for item in inserts dictionary\n",
    "        with open(kcp, 'r') as item:\n",
    "            value = item.read()\n",
    "        # add the contents of the kcp file to the inserts dictionary\n",
    "        rxs_dict[key] = value\n",
    "        print(' added to template.')\n",
    "else: \n",
    "    raise FileNotFoundError('No kcp files found in the Rx_Template directory.')"
   ]
  },
  {
   "cell_type": "markdown",
   "metadata": {},
   "source": [
    "A function to use for creating keyfiles."
   ]
  },
  {
   "cell_type": "code",
   "execution_count": null,
   "metadata": {
    "collapsed": true
   },
   "outputs": [],
   "source": [
    "def create_keyfile(standID, rx, offset):\n",
    "    '''\n",
    "    Creates a single FVS keyfile based on the jinja2 template.\n",
    "    '''\n",
    "    inserts['ID'] = standID\n",
    "    inserts['rx'] = rxs_dict[rx]\n",
    "    inserts['offset'] = offset\n",
    "    with open(os.path.join('keyfiles_to_run','stand'+str(standID)+'_'+rx+'_off'+str(offset)+'.key'),'w') as keyfile:\n",
    "        keyfile.write(template.render(**inserts))"
   ]
  },
  {
   "cell_type": "code",
   "execution_count": null,
   "metadata": {},
   "outputs": [],
   "source": [
    "def create_keyfiles(stands, rxs, offsets=[0], verbose=True):\n",
    "    '''\n",
    "    Creates FVS keyfiles for all stands using Base_Rx.key as a template.\n",
    "    Arguments:\n",
    "    stands: List of standIDs that keyfiles will be created for. Required.\n",
    "    rxs: a list of rx names to build keyfiles for. Required.\n",
    "    offsets: optional, a list of offsets, used in FVS to delay implementation of a \n",
    "        management regime. e.g., [0, 5, 10]. Defaults to a list with no offsets (i.e., [0]).\n",
    "    '''\n",
    "    stands_processed = 0\n",
    "    keyfiles_written = 0\n",
    "    num_stands = len(stands)\n",
    "    num_keys = num_stands * len(rxs) * len(offsets)\n",
    "    print('Creating', num_keys, 'keyfiles for', num_stands, 'stands.')\n",
    "\n",
    "    for standID in stands:\n",
    "        if verbose:\n",
    "            print('Creating keyfiles for stand', standID, end='... ')\n",
    "        stand_keyfiles = 0\n",
    "        for rx in rxs:\n",
    "            for offset in offsets:\n",
    "                create_keyfile(standID, rx, offset) # run the create_keyfile function\n",
    "                keyfiles_written += 1\n",
    "                stand_keyfiles += 1\n",
    "        stands_processed += 1\n",
    "        if verbose:\n",
    "            print(stand_keyfiles, 'keyfiles written.')\n",
    "        else:\n",
    "            if stands_processed % 100 == 0:\n",
    "                print(stands_processed, end='... ')\n",
    "    print('Done. Created', keyfiles_written, 'keyfiles for', stands_processed, 'stands.')"
   ]
  },
  {
   "cell_type": "markdown",
   "metadata": {},
   "source": [
    "Create the keyfiles!"
   ]
  },
  {
   "cell_type": "code",
   "execution_count": null,
   "metadata": {
    "collapsed": true
   },
   "outputs": [],
   "source": [
    "# stands = [...]"
   ]
  },
  {
   "cell_type": "code",
   "execution_count": null,
   "metadata": {},
   "outputs": [],
   "source": [
    "%%time\n",
    "create_keyfiles(stands=stands, rxs=['rx1', 'rx2', 'rx3', 'rx4', 'rx5'], verbose=False)"
   ]
  }
 ],
 "metadata": {
  "kernelspec": {
   "display_name": "Python [conda env:Py3.5]",
   "language": "python",
   "name": "conda-env-Py3.5-py"
  },
  "language_info": {
   "codemirror_mode": {
    "name": "ipython",
    "version": 3
   },
   "file_extension": ".py",
   "mimetype": "text/x-python",
   "name": "python",
   "nbconvert_exporter": "python",
   "pygments_lexer": "ipython3",
   "version": "3.5.3"
  }
 },
 "nbformat": 4,
 "nbformat_minor": 2
}
